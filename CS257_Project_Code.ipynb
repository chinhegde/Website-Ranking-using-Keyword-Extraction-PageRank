{
  "cells": [
    {
      "cell_type": "markdown",
      "metadata": {
        "id": "XA4VGVWHGp24"
      },
      "source": [
        "# Website Ranking using Keyword Extraction and PageRank Algorithm"
      ]
    },
    {
      "cell_type": "markdown",
      "metadata": {
        "id": "BD855Pz6HFY_"
      },
      "source": [
        "## Importing required packages"
      ]
    },
    {
      "cell_type": "code",
      "execution_count": null,
      "metadata": {
        "colab": {
          "base_uri": "https://localhost:8080/"
        },
        "id": "xAL2--0oLOWJ",
        "outputId": "06cf0d8a-412f-4541-a987-df8c977bda5e"
      },
      "outputs": [
        {
          "name": "stderr",
          "output_type": "stream",
          "text": [
            "[nltk_data] Downloading package stopwords to /root/nltk_data...\n",
            "[nltk_data]   Unzipping corpora/stopwords.zip.\n",
            "[nltk_data] Downloading package punkt to /root/nltk_data...\n",
            "[nltk_data]   Unzipping tokenizers/punkt.zip.\n"
          ]
        },
        {
          "data": {
            "text/plain": [
              "True"
            ]
          },
          "execution_count": 1,
          "metadata": {},
          "output_type": "execute_result"
        }
      ],
      "source": [
        "import urllib.request\n",
        "import requests\n",
        "from bs4 import BeautifulSoup\n",
        "from datetime import datetime\n",
        "import pandas as pd\n",
        "import numpy as np\n",
        "import matplotlib.pyplot as plt\n",
        "import nltk\n",
        "nltk.download('stopwords')\n",
        "nltk.download('punkt')"
      ]
    },
    {
      "cell_type": "code",
      "execution_count": null,
      "metadata": {
        "id": "037mJEmrO0ba"
      },
      "outputs": [],
      "source": [
        "from nltk.corpus import stopwords\n",
        "from nltk.tokenize import word_tokenize\n",
        "import string\n",
        "from nltk.stem import PorterStemmer\n",
        "from sklearn.feature_extraction.text import TfidfVectorizer"
      ]
    },
    {
      "cell_type": "markdown",
      "metadata": {
        "id": "1u4xMk1JGxC0"
      },
      "source": [
        "## Creation of Dataset\n",
        "- Information retrieval using web scraping\n",
        "- Dataset obtained in JSON format"
      ]
    },
    {
      "cell_type": "markdown",
      "metadata": {
        "id": "pIRpZjN7MXs5"
      },
      "source": [
        "### Retrieval of Pages through Web Scraping"
      ]
    },
    {
      "cell_type": "markdown",
      "metadata": {
        "id": "slZhoCuiHOHB"
      },
      "source": [
        "To maintain simplicity & narrow the amount of content, only the \"Latest News\" from the home page was used."
      ]
    },
    {
      "cell_type": "code",
      "execution_count": null,
      "metadata": {
        "id": "oS8qIB_RLpG9"
      },
      "outputs": [],
      "source": [
        "URL = \"https://en.wikinews.org/\"\n",
        "\n",
        "response = requests.get(URL)\n",
        "soup = BeautifulSoup(response.content, \"html.parser\")"
      ]
    },
    {
      "cell_type": "markdown",
      "metadata": {
        "id": "3445e0lcHeNy"
      },
      "source": [
        "Search results:"
      ]
    },
    {
      "cell_type": "code",
      "execution_count": null,
      "metadata": {
        "colab": {
          "base_uri": "https://localhost:8080/"
        },
        "id": "yzOU1ZgmY5Fs",
        "outputId": "c6794cfa-8c1c-4ddc-d363-aef84ff71387"
      },
      "outputs": [
        {
          "output_type": "stream",
          "name": "stdout",
          "text": [
            "https://en.wikinews.org/wiki/New_study_analyzes_the_varying_levels_of_protection_offered_by_COVID-19_vaccines?dpl_id=2971578\n",
            "https://en.wikinews.org/wiki/Waymo_announces_expansion_of_autonomous_taxi_coverage_in_Arizona,_San_Francisco?dpl_id=2971131\n",
            "https://en.wikinews.org/wiki/First_NASA_TROPICS_satellites_launch_to_monitor_tropical_storms?dpl_id=2971362\n",
            "https://en.wikinews.org/wiki/Archbishop_of_Canterbury_crowns_King_Charles_III_in_the_UK?dpl_id=2969843\n",
            "https://en.wikinews.org/wiki/Labour_becomes_largest_party_in_UK_local_government_after_2023_English_elections?dpl_id=2971250\n"
          ]
        }
      ],
      "source": [
        "my_divs = soup.find_all('div', {'class': 'latest_news_text'})\n",
        "links = []\n",
        "for div in my_divs:\n",
        "  link = div.find_all('a')\n",
        "  links.extend(list(map(lambda l: \"https://en.wikinews.org\"+l.get('href'),list(link))))\n",
        "  \n",
        "for l in links[:5]:\n",
        "  print(l)"
      ]
    },
    {
      "cell_type": "code",
      "execution_count": null,
      "metadata": {
        "colab": {
          "base_uri": "https://localhost:8080/"
        },
        "id": "JiwQY6fBn64d",
        "outputId": "4dff84da-33bc-48d2-bae3-9bb7689da828"
      },
      "outputs": [
        {
          "data": {
            "text/plain": [
              "16"
            ]
          },
          "execution_count": 5,
          "metadata": {},
          "output_type": "execute_result"
        }
      ],
      "source": [
        "len(links)"
      ]
    },
    {
      "cell_type": "markdown",
      "metadata": {
        "id": "W2Gy1T_5MiaN"
      },
      "source": [
        "### Finding Outbound links - Recursively"
      ]
    },
    {
      "cell_type": "markdown",
      "metadata": {
        "id": "Ifu-RgVFHgjh"
      },
      "source": [
        "The function below returns a list of outbound links.\n",
        "- Outbound links are the hyperlinks present in a webpage. They could be other articles, sharing links or links to navigate through the website.\n",
        "- Sharing links are not considered since they do not lead to any particular page & they do not have outbound links.\n",
        "Eg: \"Share this article on Reddit\""
      ]
    },
    {
      "cell_type": "code",
      "execution_count": null,
      "metadata": {
        "id": "HJAetl8AAsv7"
      },
      "outputs": [],
      "source": [
        "def get_outbound(link):\n",
        "  article = requests.get(link)\n",
        "  soup = BeautifulSoup(article.content, \"html.parser\")\n",
        "  links = []\n",
        "  for link in soup.find_all('a', href = True):\n",
        "      href = link.get('href')\n",
        "      if href.startswith('/wiki/') or href.startswith('/w/'):\n",
        "        t = 'https://en.wikinews.org' + link['href']\n",
        "        if t not in links:\n",
        "          links.append(t)\n",
        "\n",
        "  return links"
      ]
    },
    {
      "cell_type": "markdown",
      "metadata": {
        "id": "DkmaNWUlIQDa"
      },
      "source": [
        "The function creates the dataframe of the outbound links & URLs by recursively scraping the outbound links.\n",
        "\n",
        "Steps:\n",
        "1. Take URL input\n",
        "2. Find outbound links (OL)\n",
        "3. Get outbound links of each of OL\n",
        "4. Add row: URL, outbound links\n",
        "\n",
        "The number of times the function is recursively called is determined by the maximum depth provided."
      ]
    },
    {
      "cell_type": "code",
      "execution_count": null,
      "metadata": {
        "id": "Ho1ujkdakDIE"
      },
      "outputs": [],
      "source": [
        "def build_dataframe(url, depth, max_depth, df):\n",
        "\n",
        "  outbound_links = get_outbound(url)\n",
        "\n",
        "  if url in df['url'].values:\n",
        "    return\n",
        "\n",
        "  df.loc[len(df)] = [url, outbound_links]\n",
        "\n",
        "  if depth == max_depth or not outbound_links:\n",
        "    return\n",
        "\n",
        "  for i, link in enumerate(outbound_links):\n",
        "    build_dataframe(link, depth+1, max_depth, df)"
      ]
    },
    {
      "cell_type": "code",
      "execution_count": null,
      "metadata": {
        "id": "jzFMpt_aIOAh"
      },
      "outputs": [],
      "source": [
        "data = pd.DataFrame(columns=['url', 'outbound_links'])\n",
        "\n",
        "# for link in links:\n",
        "initial_url = l\n",
        "max_depth = 3\n",
        "\n",
        "build_dataframe(initial_url, 0, max_depth, data)"
      ]
    },
    {
      "cell_type": "code",
      "source": [
        "data = pd.read_json('wiki_news_6k.json')"
      ],
      "metadata": {
        "id": "8iWc14PA9r6G"
      },
      "execution_count": null,
      "outputs": []
    },
    {
      "cell_type": "code",
      "execution_count": null,
      "metadata": {
        "colab": {
          "base_uri": "https://localhost:8080/",
          "height": 206
        },
        "id": "mFLSHgtk-Dlt",
        "outputId": "75e8c76b-43b8-4236-bc25-93a635e6ea33"
      },
      "outputs": [
        {
          "output_type": "execute_result",
          "data": {
            "text/plain": [
              "                                                 url  \\\n",
              "0  https://en.wikinews.org/wiki/First_NASA_TROPIC...   \n",
              "1                 https://en.wikinews.org/wiki/Space   \n",
              "2  https://en.wikinews.org/w/index.php?title=Spac...   \n",
              "3  https://en.wikinews.org/wiki/Help:Page_validation   \n",
              "4        https://en.wikinews.org/wiki/Category:Space   \n",
              "\n",
              "                                      outbound_links  \n",
              "0  [https://en.wikinews.org/wiki/Space, https://e...  \n",
              "1  [https://en.wikinews.org/w/index.php?title=Spa...  \n",
              "2  [https://en.wikinews.org/wiki/Help:Page_valida...  \n",
              "3  [https://en.wikinews.org/w/index.php?title=Hel...  \n",
              "4  [https://en.wikinews.org/wiki/Saudi_Arabia_ann...  "
            ],
            "text/html": [
              "\n",
              "  <div id=\"df-49b3c340-8fd2-4c12-adb7-f529f8552b18\">\n",
              "    <div class=\"colab-df-container\">\n",
              "      <div>\n",
              "<style scoped>\n",
              "    .dataframe tbody tr th:only-of-type {\n",
              "        vertical-align: middle;\n",
              "    }\n",
              "\n",
              "    .dataframe tbody tr th {\n",
              "        vertical-align: top;\n",
              "    }\n",
              "\n",
              "    .dataframe thead th {\n",
              "        text-align: right;\n",
              "    }\n",
              "</style>\n",
              "<table border=\"1\" class=\"dataframe\">\n",
              "  <thead>\n",
              "    <tr style=\"text-align: right;\">\n",
              "      <th></th>\n",
              "      <th>url</th>\n",
              "      <th>outbound_links</th>\n",
              "    </tr>\n",
              "  </thead>\n",
              "  <tbody>\n",
              "    <tr>\n",
              "      <th>0</th>\n",
              "      <td>https://en.wikinews.org/wiki/First_NASA_TROPIC...</td>\n",
              "      <td>[https://en.wikinews.org/wiki/Space, https://e...</td>\n",
              "    </tr>\n",
              "    <tr>\n",
              "      <th>1</th>\n",
              "      <td>https://en.wikinews.org/wiki/Space</td>\n",
              "      <td>[https://en.wikinews.org/w/index.php?title=Spa...</td>\n",
              "    </tr>\n",
              "    <tr>\n",
              "      <th>2</th>\n",
              "      <td>https://en.wikinews.org/w/index.php?title=Spac...</td>\n",
              "      <td>[https://en.wikinews.org/wiki/Help:Page_valida...</td>\n",
              "    </tr>\n",
              "    <tr>\n",
              "      <th>3</th>\n",
              "      <td>https://en.wikinews.org/wiki/Help:Page_validation</td>\n",
              "      <td>[https://en.wikinews.org/w/index.php?title=Hel...</td>\n",
              "    </tr>\n",
              "    <tr>\n",
              "      <th>4</th>\n",
              "      <td>https://en.wikinews.org/wiki/Category:Space</td>\n",
              "      <td>[https://en.wikinews.org/wiki/Saudi_Arabia_ann...</td>\n",
              "    </tr>\n",
              "  </tbody>\n",
              "</table>\n",
              "</div>\n",
              "      <button class=\"colab-df-convert\" onclick=\"convertToInteractive('df-49b3c340-8fd2-4c12-adb7-f529f8552b18')\"\n",
              "              title=\"Convert this dataframe to an interactive table.\"\n",
              "              style=\"display:none;\">\n",
              "        \n",
              "  <svg xmlns=\"http://www.w3.org/2000/svg\" height=\"24px\"viewBox=\"0 0 24 24\"\n",
              "       width=\"24px\">\n",
              "    <path d=\"M0 0h24v24H0V0z\" fill=\"none\"/>\n",
              "    <path d=\"M18.56 5.44l.94 2.06.94-2.06 2.06-.94-2.06-.94-.94-2.06-.94 2.06-2.06.94zm-11 1L8.5 8.5l.94-2.06 2.06-.94-2.06-.94L8.5 2.5l-.94 2.06-2.06.94zm10 10l.94 2.06.94-2.06 2.06-.94-2.06-.94-.94-2.06-.94 2.06-2.06.94z\"/><path d=\"M17.41 7.96l-1.37-1.37c-.4-.4-.92-.59-1.43-.59-.52 0-1.04.2-1.43.59L10.3 9.45l-7.72 7.72c-.78.78-.78 2.05 0 2.83L4 21.41c.39.39.9.59 1.41.59.51 0 1.02-.2 1.41-.59l7.78-7.78 2.81-2.81c.8-.78.8-2.07 0-2.86zM5.41 20L4 18.59l7.72-7.72 1.47 1.35L5.41 20z\"/>\n",
              "  </svg>\n",
              "      </button>\n",
              "      \n",
              "  <style>\n",
              "    .colab-df-container {\n",
              "      display:flex;\n",
              "      flex-wrap:wrap;\n",
              "      gap: 12px;\n",
              "    }\n",
              "\n",
              "    .colab-df-convert {\n",
              "      background-color: #E8F0FE;\n",
              "      border: none;\n",
              "      border-radius: 50%;\n",
              "      cursor: pointer;\n",
              "      display: none;\n",
              "      fill: #1967D2;\n",
              "      height: 32px;\n",
              "      padding: 0 0 0 0;\n",
              "      width: 32px;\n",
              "    }\n",
              "\n",
              "    .colab-df-convert:hover {\n",
              "      background-color: #E2EBFA;\n",
              "      box-shadow: 0px 1px 2px rgba(60, 64, 67, 0.3), 0px 1px 3px 1px rgba(60, 64, 67, 0.15);\n",
              "      fill: #174EA6;\n",
              "    }\n",
              "\n",
              "    [theme=dark] .colab-df-convert {\n",
              "      background-color: #3B4455;\n",
              "      fill: #D2E3FC;\n",
              "    }\n",
              "\n",
              "    [theme=dark] .colab-df-convert:hover {\n",
              "      background-color: #434B5C;\n",
              "      box-shadow: 0px 1px 3px 1px rgba(0, 0, 0, 0.15);\n",
              "      filter: drop-shadow(0px 1px 2px rgba(0, 0, 0, 0.3));\n",
              "      fill: #FFFFFF;\n",
              "    }\n",
              "  </style>\n",
              "\n",
              "      <script>\n",
              "        const buttonEl =\n",
              "          document.querySelector('#df-49b3c340-8fd2-4c12-adb7-f529f8552b18 button.colab-df-convert');\n",
              "        buttonEl.style.display =\n",
              "          google.colab.kernel.accessAllowed ? 'block' : 'none';\n",
              "\n",
              "        async function convertToInteractive(key) {\n",
              "          const element = document.querySelector('#df-49b3c340-8fd2-4c12-adb7-f529f8552b18');\n",
              "          const dataTable =\n",
              "            await google.colab.kernel.invokeFunction('convertToInteractive',\n",
              "                                                     [key], {});\n",
              "          if (!dataTable) return;\n",
              "\n",
              "          const docLinkHtml = 'Like what you see? Visit the ' +\n",
              "            '<a target=\"_blank\" href=https://colab.research.google.com/notebooks/data_table.ipynb>data table notebook</a>'\n",
              "            + ' to learn more about interactive tables.';\n",
              "          element.innerHTML = '';\n",
              "          dataTable['output_type'] = 'display_data';\n",
              "          await google.colab.output.renderOutput(dataTable, element);\n",
              "          const docLink = document.createElement('div');\n",
              "          docLink.innerHTML = docLinkHtml;\n",
              "          element.appendChild(docLink);\n",
              "        }\n",
              "      </script>\n",
              "    </div>\n",
              "  </div>\n",
              "  "
            ]
          },
          "metadata": {},
          "execution_count": 32
        }
      ],
      "source": [
        "data.head()"
      ]
    },
    {
      "cell_type": "markdown",
      "metadata": {
        "id": "1g8-vuSrMxwF"
      },
      "source": [
        "### Getting Web Page Information"
      ]
    },
    {
      "cell_type": "markdown",
      "metadata": {
        "id": "SvJfRpqPJVPY"
      },
      "source": [
        "Below function returns the Title/Heading of a page, given the URL."
      ]
    },
    {
      "cell_type": "code",
      "execution_count": null,
      "metadata": {
        "id": "hR6AVDzswPjN"
      },
      "outputs": [],
      "source": [
        "def get_title(link):\n",
        "  article = requests.get(link)\n",
        "  soup = BeautifulSoup(article.content, \"html.parser\")\n",
        "  return soup.find('h1').get_text()"
      ]
    },
    {
      "cell_type": "markdown",
      "metadata": {
        "id": "Agxa42x-JgK_"
      },
      "source": [
        "Below function returns the content of a page (article body, in this case), given the URL."
      ]
    },
    {
      "cell_type": "code",
      "execution_count": null,
      "metadata": {
        "id": "xQ_2Pqf_1F6b"
      },
      "outputs": [],
      "source": [
        "def get_content(link):\n",
        "  article = requests.get(link)\n",
        "  soup = BeautifulSoup(article.content, \"html.parser\")\n",
        "  ps = soup.find_all('p')\n",
        "  cont = ''\n",
        "  for p in ps:\n",
        "    cont += str(p)\n",
        "  return cont"
      ]
    },
    {
      "cell_type": "markdown",
      "metadata": {
        "id": "NaCZGxorJpao"
      },
      "source": [
        "Below function returns the published date, given the URL.\n",
        "Making sure that the articles are not outdated."
      ]
    },
    {
      "cell_type": "code",
      "execution_count": null,
      "metadata": {
        "id": "9W2Z2Q5r6YBh"
      },
      "outputs": [],
      "source": [
        "def get_date(link):\n",
        "  article = requests.get(link)\n",
        "  soup = BeautifulSoup(article.content, \"html.parser\")\n",
        "  try:\n",
        "    date = soup.find('strong', {'class': 'published'}).get_text()\n",
        "  except:\n",
        "    time = datetime.now()\n",
        "    date = time.strftime(\"%A, %B %d, %Y\")\n",
        "  return date"
      ]
    },
    {
      "cell_type": "markdown",
      "metadata": {
        "id": "np2udHbVKETE"
      },
      "source": [
        "Creating new columns in the dataframe:"
      ]
    },
    {
      "cell_type": "code",
      "execution_count": null,
      "metadata": {
        "id": "gDTW1dgF1nZ6"
      },
      "outputs": [],
      "source": [
        "data['title'] = data['url'].apply(get_title)"
      ]
    },
    {
      "cell_type": "code",
      "execution_count": null,
      "metadata": {
        "colab": {
          "background_save": true
        },
        "id": "aJG9-t-62RQ7"
      },
      "outputs": [],
      "source": [
        "data['content'] = data['url'].apply(get_content)"
      ]
    },
    {
      "cell_type": "code",
      "execution_count": null,
      "metadata": {
        "colab": {
          "background_save": true
        },
        "id": "NFLzvRzQ4SQm"
      },
      "outputs": [],
      "source": [
        "data['date'] = data['url'].apply(get_date)"
      ]
    },
    {
      "cell_type": "code",
      "source": [
        "data = pd.read_json('final_db_6k.json')"
      ],
      "metadata": {
        "id": "sTbgvRqBEJpG"
      },
      "execution_count": null,
      "outputs": []
    },
    {
      "cell_type": "code",
      "execution_count": null,
      "metadata": {
        "colab": {
          "base_uri": "https://localhost:8080/",
          "height": 372
        },
        "id": "CDKzT-YZMReg",
        "outputId": "091ad6fa-a05e-4285-c8f4-b02740a5d355"
      },
      "outputs": [
        {
          "output_type": "execute_result",
          "data": {
            "text/plain": [
              "                                                 url  \\\n",
              "0  https://en.wikinews.org/wiki/First_NASA_TROPIC...   \n",
              "1                 https://en.wikinews.org/wiki/Space   \n",
              "2  https://en.wikinews.org/w/index.php?title=Spac...   \n",
              "3  https://en.wikinews.org/wiki/Help:Page_validation   \n",
              "4        https://en.wikinews.org/wiki/Category:Space   \n",
              "\n",
              "                                      outbound_links  \\\n",
              "0  [https://en.wikinews.org/wiki/Space, https://e...   \n",
              "1  [https://en.wikinews.org/w/index.php?title=Spa...   \n",
              "2  [https://en.wikinews.org/wiki/Help:Page_valida...   \n",
              "3  [https://en.wikinews.org/w/index.php?title=Hel...   \n",
              "4  [https://en.wikinews.org/wiki/Saudi_Arabia_ann...   \n",
              "\n",
              "                                               title  \\\n",
              "0  First NASA TROPICS satellites launch to monito...   \n",
              "1                                     Category:Space   \n",
              "2                                              Space   \n",
              "3                         Wikinews:Flagged revisions   \n",
              "4                                     Category:Space   \n",
              "\n",
              "                                             content       date  \n",
              "0  <p><strong class=\"published\"><span class=\"valu... 2023-05-09  \n",
              "1  <p>This is the category for  <b><a class=\"exti... 2023-05-11  \n",
              "2                                <p>Redirect to:</p> 2023-05-11  \n",
              "3  <p><a class=\"mw-redirect\" href=\"/wiki/Wikinews... 2023-05-11  \n",
              "4  <p>This is the category for  <b><a class=\"exti... 2023-05-11  "
            ],
            "text/html": [
              "\n",
              "  <div id=\"df-03e7f819-240e-4b9d-be5c-a6e5aa3088ed\">\n",
              "    <div class=\"colab-df-container\">\n",
              "      <div>\n",
              "<style scoped>\n",
              "    .dataframe tbody tr th:only-of-type {\n",
              "        vertical-align: middle;\n",
              "    }\n",
              "\n",
              "    .dataframe tbody tr th {\n",
              "        vertical-align: top;\n",
              "    }\n",
              "\n",
              "    .dataframe thead th {\n",
              "        text-align: right;\n",
              "    }\n",
              "</style>\n",
              "<table border=\"1\" class=\"dataframe\">\n",
              "  <thead>\n",
              "    <tr style=\"text-align: right;\">\n",
              "      <th></th>\n",
              "      <th>url</th>\n",
              "      <th>outbound_links</th>\n",
              "      <th>title</th>\n",
              "      <th>content</th>\n",
              "      <th>date</th>\n",
              "    </tr>\n",
              "  </thead>\n",
              "  <tbody>\n",
              "    <tr>\n",
              "      <th>0</th>\n",
              "      <td>https://en.wikinews.org/wiki/First_NASA_TROPIC...</td>\n",
              "      <td>[https://en.wikinews.org/wiki/Space, https://e...</td>\n",
              "      <td>First NASA TROPICS satellites launch to monito...</td>\n",
              "      <td>&lt;p&gt;&lt;strong class=\"published\"&gt;&lt;span class=\"valu...</td>\n",
              "      <td>2023-05-09</td>\n",
              "    </tr>\n",
              "    <tr>\n",
              "      <th>1</th>\n",
              "      <td>https://en.wikinews.org/wiki/Space</td>\n",
              "      <td>[https://en.wikinews.org/w/index.php?title=Spa...</td>\n",
              "      <td>Category:Space</td>\n",
              "      <td>&lt;p&gt;This is the category for  &lt;b&gt;&lt;a class=\"exti...</td>\n",
              "      <td>2023-05-11</td>\n",
              "    </tr>\n",
              "    <tr>\n",
              "      <th>2</th>\n",
              "      <td>https://en.wikinews.org/w/index.php?title=Spac...</td>\n",
              "      <td>[https://en.wikinews.org/wiki/Help:Page_valida...</td>\n",
              "      <td>Space</td>\n",
              "      <td>&lt;p&gt;Redirect to:&lt;/p&gt;</td>\n",
              "      <td>2023-05-11</td>\n",
              "    </tr>\n",
              "    <tr>\n",
              "      <th>3</th>\n",
              "      <td>https://en.wikinews.org/wiki/Help:Page_validation</td>\n",
              "      <td>[https://en.wikinews.org/w/index.php?title=Hel...</td>\n",
              "      <td>Wikinews:Flagged revisions</td>\n",
              "      <td>&lt;p&gt;&lt;a class=\"mw-redirect\" href=\"/wiki/Wikinews...</td>\n",
              "      <td>2023-05-11</td>\n",
              "    </tr>\n",
              "    <tr>\n",
              "      <th>4</th>\n",
              "      <td>https://en.wikinews.org/wiki/Category:Space</td>\n",
              "      <td>[https://en.wikinews.org/wiki/Saudi_Arabia_ann...</td>\n",
              "      <td>Category:Space</td>\n",
              "      <td>&lt;p&gt;This is the category for  &lt;b&gt;&lt;a class=\"exti...</td>\n",
              "      <td>2023-05-11</td>\n",
              "    </tr>\n",
              "  </tbody>\n",
              "</table>\n",
              "</div>\n",
              "      <button class=\"colab-df-convert\" onclick=\"convertToInteractive('df-03e7f819-240e-4b9d-be5c-a6e5aa3088ed')\"\n",
              "              title=\"Convert this dataframe to an interactive table.\"\n",
              "              style=\"display:none;\">\n",
              "        \n",
              "  <svg xmlns=\"http://www.w3.org/2000/svg\" height=\"24px\"viewBox=\"0 0 24 24\"\n",
              "       width=\"24px\">\n",
              "    <path d=\"M0 0h24v24H0V0z\" fill=\"none\"/>\n",
              "    <path d=\"M18.56 5.44l.94 2.06.94-2.06 2.06-.94-2.06-.94-.94-2.06-.94 2.06-2.06.94zm-11 1L8.5 8.5l.94-2.06 2.06-.94-2.06-.94L8.5 2.5l-.94 2.06-2.06.94zm10 10l.94 2.06.94-2.06 2.06-.94-2.06-.94-.94-2.06-.94 2.06-2.06.94z\"/><path d=\"M17.41 7.96l-1.37-1.37c-.4-.4-.92-.59-1.43-.59-.52 0-1.04.2-1.43.59L10.3 9.45l-7.72 7.72c-.78.78-.78 2.05 0 2.83L4 21.41c.39.39.9.59 1.41.59.51 0 1.02-.2 1.41-.59l7.78-7.78 2.81-2.81c.8-.78.8-2.07 0-2.86zM5.41 20L4 18.59l7.72-7.72 1.47 1.35L5.41 20z\"/>\n",
              "  </svg>\n",
              "      </button>\n",
              "      \n",
              "  <style>\n",
              "    .colab-df-container {\n",
              "      display:flex;\n",
              "      flex-wrap:wrap;\n",
              "      gap: 12px;\n",
              "    }\n",
              "\n",
              "    .colab-df-convert {\n",
              "      background-color: #E8F0FE;\n",
              "      border: none;\n",
              "      border-radius: 50%;\n",
              "      cursor: pointer;\n",
              "      display: none;\n",
              "      fill: #1967D2;\n",
              "      height: 32px;\n",
              "      padding: 0 0 0 0;\n",
              "      width: 32px;\n",
              "    }\n",
              "\n",
              "    .colab-df-convert:hover {\n",
              "      background-color: #E2EBFA;\n",
              "      box-shadow: 0px 1px 2px rgba(60, 64, 67, 0.3), 0px 1px 3px 1px rgba(60, 64, 67, 0.15);\n",
              "      fill: #174EA6;\n",
              "    }\n",
              "\n",
              "    [theme=dark] .colab-df-convert {\n",
              "      background-color: #3B4455;\n",
              "      fill: #D2E3FC;\n",
              "    }\n",
              "\n",
              "    [theme=dark] .colab-df-convert:hover {\n",
              "      background-color: #434B5C;\n",
              "      box-shadow: 0px 1px 3px 1px rgba(0, 0, 0, 0.15);\n",
              "      filter: drop-shadow(0px 1px 2px rgba(0, 0, 0, 0.3));\n",
              "      fill: #FFFFFF;\n",
              "    }\n",
              "  </style>\n",
              "\n",
              "      <script>\n",
              "        const buttonEl =\n",
              "          document.querySelector('#df-03e7f819-240e-4b9d-be5c-a6e5aa3088ed button.colab-df-convert');\n",
              "        buttonEl.style.display =\n",
              "          google.colab.kernel.accessAllowed ? 'block' : 'none';\n",
              "\n",
              "        async function convertToInteractive(key) {\n",
              "          const element = document.querySelector('#df-03e7f819-240e-4b9d-be5c-a6e5aa3088ed');\n",
              "          const dataTable =\n",
              "            await google.colab.kernel.invokeFunction('convertToInteractive',\n",
              "                                                     [key], {});\n",
              "          if (!dataTable) return;\n",
              "\n",
              "          const docLinkHtml = 'Like what you see? Visit the ' +\n",
              "            '<a target=\"_blank\" href=https://colab.research.google.com/notebooks/data_table.ipynb>data table notebook</a>'\n",
              "            + ' to learn more about interactive tables.';\n",
              "          element.innerHTML = '';\n",
              "          dataTable['output_type'] = 'display_data';\n",
              "          await google.colab.output.renderOutput(dataTable, element);\n",
              "          const docLink = document.createElement('div');\n",
              "          docLink.innerHTML = docLinkHtml;\n",
              "          element.appendChild(docLink);\n",
              "        }\n",
              "      </script>\n",
              "    </div>\n",
              "  </div>\n",
              "  "
            ]
          },
          "metadata": {},
          "execution_count": 35
        }
      ],
      "source": [
        "data.head()"
      ]
    },
    {
      "cell_type": "markdown",
      "metadata": {
        "id": "EQibAlM0uRc2"
      },
      "source": [
        "### Data Preprocessing"
      ]
    },
    {
      "cell_type": "code",
      "execution_count": null,
      "metadata": {
        "colab": {
          "base_uri": "https://localhost:8080/"
        },
        "id": "CIjW4qkNuF6G",
        "outputId": "6fc36869-cc9d-48a0-d94a-d4c3e351d92e"
      },
      "outputs": [
        {
          "name": "stdout",
          "output_type": "stream",
          "text": [
            "0       Tuesday, May 9, 2023 \\nOn Sunday at about 13:0...\n",
            "1       This is the category for  space, covering anyt...\n",
            "2                                            Redirect to:\n",
            "3       Wikinews is currently running MediaWiki with t...\n",
            "4       This is the category for  space, covering anyt...\n",
            "                              ...                        \n",
            "6235    Idioma: Deutsch | English | Esperanto | frança...\n",
            "6236    Lingua: Deutsch | English | Esperanto | frança...\n",
            "6237    Taal: Deutsch | English | Esperanto | français...\n",
            "6238    You must have cookies enabled to log in to Wik...\n",
            "6239    Language: Deutsch | English | Esperanto | fran...\n",
            "Name: content, Length: 6240, dtype: object\n"
          ]
        }
      ],
      "source": [
        "# Removing all <HTML> Tags\n",
        "def remove_tags(content):\n",
        "  soup = BeautifulSoup(content, 'html.parser')\n",
        "  return soup.get_text()\n",
        "\n",
        "data['content'] = data['content'].apply(remove_tags)\n",
        "print(data['content'])"
      ]
    },
    {
      "cell_type": "code",
      "execution_count": null,
      "metadata": {
        "colab": {
          "base_uri": "https://localhost:8080/"
        },
        "id": "KGStjNd5uS5j",
        "outputId": "1c69e5d0-a154-4e76-ec74-2489341275b7"
      },
      "outputs": [
        {
          "name": "stdout",
          "output_type": "stream",
          "text": [
            "0       Tuesday , May 9 , 2023 Sunday 13:00 NZST ( 010...\n",
            "1       category space , covering anything beyond Eart...\n",
            "2                                              Redirect :\n",
            "3       Wikinews currently running MediaWiki flagged r...\n",
            "4       category space , covering anything beyond Eart...\n",
            "                              ...                        \n",
            "6235    Idioma : Deutsch | English | Esperanto | franç...\n",
            "6236    Lingua : Deutsch | English | Esperanto | franç...\n",
            "6237    Taal : Deutsch | English | Esperanto | françai...\n",
            "6238    must cookies enabled log Wikinews . Language :...\n",
            "6239    Language : Deutsch | English | Esperanto | fra...\n",
            "Name: content, Length: 6240, dtype: object\n"
          ]
        }
      ],
      "source": [
        "# Removing stop words in English\n",
        "def remove_stop_words(content):\n",
        "  words = word_tokenize(content)\n",
        "  stop_words_dict = set(stopwords.words('english'))\n",
        "  filtered_words = [word for word in words \n",
        "                    if word.lower() not in stop_words_dict]\n",
        "  content = \" \".join(filtered_words)\n",
        "  return content\n",
        "\n",
        "data['content'] = data['content'].apply(remove_stop_words)\n",
        "print(data['content']) "
      ]
    },
    {
      "cell_type": "code",
      "execution_count": null,
      "metadata": {
        "id": "PQkofzInuWTS"
      },
      "outputs": [],
      "source": [
        "# Converting to lower case\n",
        "data['content'] = data['content'].str.lower()"
      ]
    },
    {
      "cell_type": "code",
      "execution_count": null,
      "metadata": {
        "id": "XTLK50UhuYOb"
      },
      "outputs": [],
      "source": [
        "# Removing apostrophe\n",
        "data['content'] = data['content'].str.replace(\"'\", \"\")"
      ]
    },
    {
      "cell_type": "code",
      "execution_count": null,
      "metadata": {
        "id": "1kWpYXE5uZgu"
      },
      "outputs": [],
      "source": [
        "# Removing punctuation\n",
        "def remove_punctuation(content):\n",
        "    return content.translate(str.maketrans('', '', string.punctuation))\n",
        "remove_punctuation_vec = np.vectorize(remove_punctuation)\n",
        "data['content'] = data['content'].apply(remove_punctuation_vec)"
      ]
    },
    {
      "cell_type": "code",
      "execution_count": null,
      "metadata": {
        "colab": {
          "base_uri": "https://localhost:8080/"
        },
        "id": "kKXWG4y-ua4g",
        "outputId": "205a767e-a902-4d3b-a046-da5f45a53fd7"
      },
      "outputs": [
        {
          "name": "stderr",
          "output_type": "stream",
          "text": [
            "<ipython-input-18-7f1a277b8cc3>:2: FutureWarning: The default value of regex will change from True to False in a future version.\n",
            "  data['content'] = data['content'].str.replace('\\d+', '')\n"
          ]
        }
      ],
      "source": [
        "# Removing numbers\n",
        "data['content'] = data['content'].str.replace('\\d+', '')\n",
        "\n",
        "# Removing extra whitespaces\n",
        "data['content'] = data['content'].str.replace(r'\\s+', ' ', regex=True).str.strip()"
      ]
    },
    {
      "cell_type": "code",
      "execution_count": null,
      "metadata": {
        "colab": {
          "base_uri": "https://localhost:8080/"
        },
        "id": "P3Xibce9uaxv",
        "outputId": "7a1ba6b2-36e0-4f14-f15e-b10ffbbde48e"
      },
      "outputs": [
        {
          "name": "stdout",
          "output_type": "stream",
          "text": [
            "0       tuesday may sunday nzst utc rocket lab electro...\n",
            "1       category space covering anything beyond earth ...\n",
            "2                                                redirect\n",
            "3       wikinews currently running mediawiki flagged r...\n",
            "4       category space covering anything beyond earth ...\n",
            "                              ...                        \n",
            "6235    idioma deutsch english esperanto français espa...\n",
            "6236    lingua deutsch english esperanto français espa...\n",
            "6237    taal deutsch english esperanto français españo...\n",
            "6238    must cookies enabled log wikinews language deu...\n",
            "6239    language deutsch english esperanto français es...\n",
            "Name: content, Length: 6240, dtype: object\n"
          ]
        }
      ],
      "source": [
        "print(data['content']) "
      ]
    },
    {
      "cell_type": "markdown",
      "source": [
        "### Calculating Tf/Idf scores"
      ],
      "metadata": {
        "id": "APi9vW4cGdNN"
      }
    },
    {
      "cell_type": "code",
      "execution_count": null,
      "metadata": {
        "colab": {
          "base_uri": "https://localhost:8080/"
        },
        "id": "SkR6SCbwuesz",
        "outputId": "53f838b2-dc2e-43af-bf02-670578f6d9a5"
      },
      "outputs": [
        {
          "name": "stdout",
          "output_type": "stream",
          "text": [
            "Looking in indexes: https://pypi.org/simple, https://us-python.pkg.dev/colab-wheels/public/simple/\n",
            "Requirement already satisfied: scikit-learn in /usr/local/lib/python3.10/dist-packages (1.2.2)\n",
            "Requirement already satisfied: numpy>=1.17.3 in /usr/local/lib/python3.10/dist-packages (from scikit-learn) (1.22.4)\n",
            "Requirement already satisfied: scipy>=1.3.2 in /usr/local/lib/python3.10/dist-packages (from scikit-learn) (1.10.1)\n",
            "Requirement already satisfied: joblib>=1.1.1 in /usr/local/lib/python3.10/dist-packages (from scikit-learn) (1.2.0)\n",
            "Requirement already satisfied: threadpoolctl>=2.0.0 in /usr/local/lib/python3.10/dist-packages (from scikit-learn) (3.1.0)\n"
          ]
        }
      ],
      "source": [
        "!pip install scikit-learn"
      ]
    },
    {
      "cell_type": "code",
      "execution_count": null,
      "metadata": {
        "id": "7a9i3BgUuf_k"
      },
      "outputs": [],
      "source": [
        "import pandas as pd\n",
        "from sklearn.feature_extraction.text import TfidfVectorizer\n",
        "\n",
        "# create a TfidfVectorizer object\n",
        "vectorizer = TfidfVectorizer()\n",
        "vectorizer.fit(data['content'])\n",
        "tfidf_matrix = vectorizer.transform(data['content'])\n",
        "\n",
        "# convert the matrix to a dataframe\n",
        "tfidf_df = pd.DataFrame(tfidf_matrix.toarray(), columns=vectorizer.get_feature_names_out())\n",
        "\n",
        "# find the index of top 20 words with the highest tf-idf score for each document\n",
        "top_20_words_idx = tfidf_df.apply(lambda x: x.argsort()[-20:][::-1], axis=1)\n",
        "\n",
        "# get the words with the top 20 tf-idf scores for each row\n",
        "top_20_words = top_20_words_idx.apply(lambda x: [vectorizer.get_feature_names_out()[i] for i in x])\n",
        "\n",
        "words_list = top_20_words.apply(lambda x: x.tolist(), axis=1)\n",
        "\n",
        "data['keywords_dict'] = words_list"
      ]
    },
    {
      "cell_type": "code",
      "execution_count": null,
      "metadata": {
        "id": "-G6s8sRfu0I6"
      },
      "outputs": [],
      "source": [
        "# Adding article_id column to df\n",
        "data['article_id'] = data.reset_index().index\n",
        "data = data[[\"article_id\", \"title\", \"url\", \"date\", \"content\", \"outbound_links\", \"keywords_dict\"]]"
      ]
    },
    {
      "cell_type": "code",
      "execution_count": null,
      "metadata": {
        "colab": {
          "base_uri": "https://localhost:8080/",
          "height": 406
        },
        "id": "IdobTEKsuhr6",
        "outputId": "7c45a65a-8a05-4ff0-bdde-ff414dd51be1"
      },
      "outputs": [
        {
          "data": {
            "text/html": [
              "\n",
              "  <div id=\"df-4e455fd3-843d-4bb0-94f3-a3291a5eb0cb\">\n",
              "    <div class=\"colab-df-container\">\n",
              "      <div>\n",
              "<style scoped>\n",
              "    .dataframe tbody tr th:only-of-type {\n",
              "        vertical-align: middle;\n",
              "    }\n",
              "\n",
              "    .dataframe tbody tr th {\n",
              "        vertical-align: top;\n",
              "    }\n",
              "\n",
              "    .dataframe thead th {\n",
              "        text-align: right;\n",
              "    }\n",
              "</style>\n",
              "<table border=\"1\" class=\"dataframe\">\n",
              "  <thead>\n",
              "    <tr style=\"text-align: right;\">\n",
              "      <th></th>\n",
              "      <th>article_id</th>\n",
              "      <th>title</th>\n",
              "      <th>url</th>\n",
              "      <th>date</th>\n",
              "      <th>content</th>\n",
              "      <th>outbound_links</th>\n",
              "      <th>keywords_dict</th>\n",
              "    </tr>\n",
              "  </thead>\n",
              "  <tbody>\n",
              "    <tr>\n",
              "      <th>0</th>\n",
              "      <td>0</td>\n",
              "      <td>First NASA TROPICS satellites launch to monito...</td>\n",
              "      <td>https://en.wikinews.org/wiki/First_NASA_TROPIC...</td>\n",
              "      <td>2023-05-09</td>\n",
              "      <td>tuesday may sunday nzst utc rocket lab electro...</td>\n",
              "      <td>[https://en.wikinews.org/wiki/Space, https://e...</td>\n",
              "      <td>[rocket, tropics, observations, hurricane, sat...</td>\n",
              "    </tr>\n",
              "    <tr>\n",
              "      <th>1</th>\n",
              "      <td>1</td>\n",
              "      <td>Category:Space</td>\n",
              "      <td>https://en.wikinews.org/wiki/Space</td>\n",
              "      <td>2023-05-11</td>\n",
              "      <td>category space covering anything beyond earth ...</td>\n",
              "      <td>[https://en.wikinews.org/w/index.php?title=Spa...</td>\n",
              "      <td>[category, spaceports, groundbased, observator...</td>\n",
              "    </tr>\n",
              "    <tr>\n",
              "      <th>2</th>\n",
              "      <td>2</td>\n",
              "      <td>Space</td>\n",
              "      <td>https://en.wikinews.org/w/index.php?title=Spac...</td>\n",
              "      <td>2023-05-11</td>\n",
              "      <td>redirect</td>\n",
              "      <td>[https://en.wikinews.org/wiki/Help:Page_valida...</td>\n",
              "      <td>[redirect, 한국어, forensic, forecasts, foreclose...</td>\n",
              "    </tr>\n",
              "    <tr>\n",
              "      <th>3</th>\n",
              "      <td>3</td>\n",
              "      <td>Wikinews:Flagged revisions</td>\n",
              "      <td>https://en.wikinews.org/wiki/Help:Page_validation</td>\n",
              "      <td>2023-05-11</td>\n",
              "      <td>wikinews currently running mediawiki flagged r...</td>\n",
              "      <td>[https://en.wikinews.org/w/index.php?title=Hel...</td>\n",
              "      <td>[sighting, flagged, peer, revisions, default, ...</td>\n",
              "    </tr>\n",
              "    <tr>\n",
              "      <th>4</th>\n",
              "      <td>4</td>\n",
              "      <td>Category:Space</td>\n",
              "      <td>https://en.wikinews.org/wiki/Category:Space</td>\n",
              "      <td>2023-05-11</td>\n",
              "      <td>category space covering anything beyond earth ...</td>\n",
              "      <td>[https://en.wikinews.org/wiki/Saudi_Arabia_ann...</td>\n",
              "      <td>[category, spaceports, groundbased, observator...</td>\n",
              "    </tr>\n",
              "  </tbody>\n",
              "</table>\n",
              "</div>\n",
              "      <button class=\"colab-df-convert\" onclick=\"convertToInteractive('df-4e455fd3-843d-4bb0-94f3-a3291a5eb0cb')\"\n",
              "              title=\"Convert this dataframe to an interactive table.\"\n",
              "              style=\"display:none;\">\n",
              "        \n",
              "  <svg xmlns=\"http://www.w3.org/2000/svg\" height=\"24px\"viewBox=\"0 0 24 24\"\n",
              "       width=\"24px\">\n",
              "    <path d=\"M0 0h24v24H0V0z\" fill=\"none\"/>\n",
              "    <path d=\"M18.56 5.44l.94 2.06.94-2.06 2.06-.94-2.06-.94-.94-2.06-.94 2.06-2.06.94zm-11 1L8.5 8.5l.94-2.06 2.06-.94-2.06-.94L8.5 2.5l-.94 2.06-2.06.94zm10 10l.94 2.06.94-2.06 2.06-.94-2.06-.94-.94-2.06-.94 2.06-2.06.94z\"/><path d=\"M17.41 7.96l-1.37-1.37c-.4-.4-.92-.59-1.43-.59-.52 0-1.04.2-1.43.59L10.3 9.45l-7.72 7.72c-.78.78-.78 2.05 0 2.83L4 21.41c.39.39.9.59 1.41.59.51 0 1.02-.2 1.41-.59l7.78-7.78 2.81-2.81c.8-.78.8-2.07 0-2.86zM5.41 20L4 18.59l7.72-7.72 1.47 1.35L5.41 20z\"/>\n",
              "  </svg>\n",
              "      </button>\n",
              "      \n",
              "  <style>\n",
              "    .colab-df-container {\n",
              "      display:flex;\n",
              "      flex-wrap:wrap;\n",
              "      gap: 12px;\n",
              "    }\n",
              "\n",
              "    .colab-df-convert {\n",
              "      background-color: #E8F0FE;\n",
              "      border: none;\n",
              "      border-radius: 50%;\n",
              "      cursor: pointer;\n",
              "      display: none;\n",
              "      fill: #1967D2;\n",
              "      height: 32px;\n",
              "      padding: 0 0 0 0;\n",
              "      width: 32px;\n",
              "    }\n",
              "\n",
              "    .colab-df-convert:hover {\n",
              "      background-color: #E2EBFA;\n",
              "      box-shadow: 0px 1px 2px rgba(60, 64, 67, 0.3), 0px 1px 3px 1px rgba(60, 64, 67, 0.15);\n",
              "      fill: #174EA6;\n",
              "    }\n",
              "\n",
              "    [theme=dark] .colab-df-convert {\n",
              "      background-color: #3B4455;\n",
              "      fill: #D2E3FC;\n",
              "    }\n",
              "\n",
              "    [theme=dark] .colab-df-convert:hover {\n",
              "      background-color: #434B5C;\n",
              "      box-shadow: 0px 1px 3px 1px rgba(0, 0, 0, 0.15);\n",
              "      filter: drop-shadow(0px 1px 2px rgba(0, 0, 0, 0.3));\n",
              "      fill: #FFFFFF;\n",
              "    }\n",
              "  </style>\n",
              "\n",
              "      <script>\n",
              "        const buttonEl =\n",
              "          document.querySelector('#df-4e455fd3-843d-4bb0-94f3-a3291a5eb0cb button.colab-df-convert');\n",
              "        buttonEl.style.display =\n",
              "          google.colab.kernel.accessAllowed ? 'block' : 'none';\n",
              "\n",
              "        async function convertToInteractive(key) {\n",
              "          const element = document.querySelector('#df-4e455fd3-843d-4bb0-94f3-a3291a5eb0cb');\n",
              "          const dataTable =\n",
              "            await google.colab.kernel.invokeFunction('convertToInteractive',\n",
              "                                                     [key], {});\n",
              "          if (!dataTable) return;\n",
              "\n",
              "          const docLinkHtml = 'Like what you see? Visit the ' +\n",
              "            '<a target=\"_blank\" href=https://colab.research.google.com/notebooks/data_table.ipynb>data table notebook</a>'\n",
              "            + ' to learn more about interactive tables.';\n",
              "          element.innerHTML = '';\n",
              "          dataTable['output_type'] = 'display_data';\n",
              "          await google.colab.output.renderOutput(dataTable, element);\n",
              "          const docLink = document.createElement('div');\n",
              "          docLink.innerHTML = docLinkHtml;\n",
              "          element.appendChild(docLink);\n",
              "        }\n",
              "      </script>\n",
              "    </div>\n",
              "  </div>\n",
              "  "
            ],
            "text/plain": [
              "   article_id                                              title  \\\n",
              "0           0  First NASA TROPICS satellites launch to monito...   \n",
              "1           1                                     Category:Space   \n",
              "2           2                                              Space   \n",
              "3           3                         Wikinews:Flagged revisions   \n",
              "4           4                                     Category:Space   \n",
              "\n",
              "                                                 url       date  \\\n",
              "0  https://en.wikinews.org/wiki/First_NASA_TROPIC... 2023-05-09   \n",
              "1                 https://en.wikinews.org/wiki/Space 2023-05-11   \n",
              "2  https://en.wikinews.org/w/index.php?title=Spac... 2023-05-11   \n",
              "3  https://en.wikinews.org/wiki/Help:Page_validation 2023-05-11   \n",
              "4        https://en.wikinews.org/wiki/Category:Space 2023-05-11   \n",
              "\n",
              "                                             content  \\\n",
              "0  tuesday may sunday nzst utc rocket lab electro...   \n",
              "1  category space covering anything beyond earth ...   \n",
              "2                                           redirect   \n",
              "3  wikinews currently running mediawiki flagged r...   \n",
              "4  category space covering anything beyond earth ...   \n",
              "\n",
              "                                      outbound_links  \\\n",
              "0  [https://en.wikinews.org/wiki/Space, https://e...   \n",
              "1  [https://en.wikinews.org/w/index.php?title=Spa...   \n",
              "2  [https://en.wikinews.org/wiki/Help:Page_valida...   \n",
              "3  [https://en.wikinews.org/w/index.php?title=Hel...   \n",
              "4  [https://en.wikinews.org/wiki/Saudi_Arabia_ann...   \n",
              "\n",
              "                                       keywords_dict  \n",
              "0  [rocket, tropics, observations, hurricane, sat...  \n",
              "1  [category, spaceports, groundbased, observator...  \n",
              "2  [redirect, 한국어, forensic, forecasts, foreclose...  \n",
              "3  [sighting, flagged, peer, revisions, default, ...  \n",
              "4  [category, spaceports, groundbased, observator...  "
            ]
          },
          "execution_count": 25,
          "metadata": {},
          "output_type": "execute_result"
        }
      ],
      "source": [
        "data.head()"
      ]
    },
    {
      "cell_type": "code",
      "execution_count": null,
      "metadata": {
        "id": "OXZOXSDzyTKU"
      },
      "outputs": [],
      "source": [
        "data['keywords_dict'] = data['keywords_dict'].apply(lambda x: ', '.join(x))"
      ]
    },
    {
      "cell_type": "markdown",
      "metadata": {
        "id": "L9__atPfv5-G"
      },
      "source": [
        "#Inserting the webpages data to DB "
      ]
    },
    {
      "cell_type": "code",
      "execution_count": null,
      "metadata": {
        "id": "hPx8r0dsu5rC"
      },
      "outputs": [],
      "source": [
        "article_df = data[[\"article_id\",\"title\",\"url\",\"date\",\"outbound_links\"]]\n",
        "content_df = data[[\"article_id\",\"content\",\"keywords_dict\"]]"
      ]
    },
    {
      "cell_type": "code",
      "execution_count": null,
      "metadata": {
        "colab": {
          "base_uri": "https://localhost:8080/",
          "height": 337
        },
        "id": "ciw0PBpru8BE",
        "outputId": "4b995e70-eee7-47cc-85b5-a81914d4f5fb"
      },
      "outputs": [
        {
          "output_type": "execute_result",
          "data": {
            "text/plain": [
              "   article_id                                              title  \\\n",
              "0           0  First NASA TROPICS satellites launch to monito...   \n",
              "1           1                                     Category:Space   \n",
              "2           2                                              Space   \n",
              "3           3                         Wikinews:Flagged revisions   \n",
              "4           4                                     Category:Space   \n",
              "\n",
              "                                                 url       date  \\\n",
              "0  https://en.wikinews.org/wiki/First_NASA_TROPIC... 2023-05-09   \n",
              "1                 https://en.wikinews.org/wiki/Space 2023-05-11   \n",
              "2  https://en.wikinews.org/w/index.php?title=Spac... 2023-05-11   \n",
              "3  https://en.wikinews.org/wiki/Help:Page_validation 2023-05-11   \n",
              "4        https://en.wikinews.org/wiki/Category:Space 2023-05-11   \n",
              "\n",
              "                                      outbound_links  \n",
              "0  [https://en.wikinews.org/wiki/Space, https://e...  \n",
              "1  [https://en.wikinews.org/w/index.php?title=Spa...  \n",
              "2  [https://en.wikinews.org/wiki/Help:Page_valida...  \n",
              "3  [https://en.wikinews.org/w/index.php?title=Hel...  \n",
              "4  [https://en.wikinews.org/wiki/Saudi_Arabia_ann...  "
            ],
            "text/html": [
              "\n",
              "  <div id=\"df-b0847f18-9011-41ac-b215-5bcd051fa697\">\n",
              "    <div class=\"colab-df-container\">\n",
              "      <div>\n",
              "<style scoped>\n",
              "    .dataframe tbody tr th:only-of-type {\n",
              "        vertical-align: middle;\n",
              "    }\n",
              "\n",
              "    .dataframe tbody tr th {\n",
              "        vertical-align: top;\n",
              "    }\n",
              "\n",
              "    .dataframe thead th {\n",
              "        text-align: right;\n",
              "    }\n",
              "</style>\n",
              "<table border=\"1\" class=\"dataframe\">\n",
              "  <thead>\n",
              "    <tr style=\"text-align: right;\">\n",
              "      <th></th>\n",
              "      <th>article_id</th>\n",
              "      <th>title</th>\n",
              "      <th>url</th>\n",
              "      <th>date</th>\n",
              "      <th>outbound_links</th>\n",
              "    </tr>\n",
              "  </thead>\n",
              "  <tbody>\n",
              "    <tr>\n",
              "      <th>0</th>\n",
              "      <td>0</td>\n",
              "      <td>First NASA TROPICS satellites launch to monito...</td>\n",
              "      <td>https://en.wikinews.org/wiki/First_NASA_TROPIC...</td>\n",
              "      <td>2023-05-09</td>\n",
              "      <td>[https://en.wikinews.org/wiki/Space, https://e...</td>\n",
              "    </tr>\n",
              "    <tr>\n",
              "      <th>1</th>\n",
              "      <td>1</td>\n",
              "      <td>Category:Space</td>\n",
              "      <td>https://en.wikinews.org/wiki/Space</td>\n",
              "      <td>2023-05-11</td>\n",
              "      <td>[https://en.wikinews.org/w/index.php?title=Spa...</td>\n",
              "    </tr>\n",
              "    <tr>\n",
              "      <th>2</th>\n",
              "      <td>2</td>\n",
              "      <td>Space</td>\n",
              "      <td>https://en.wikinews.org/w/index.php?title=Spac...</td>\n",
              "      <td>2023-05-11</td>\n",
              "      <td>[https://en.wikinews.org/wiki/Help:Page_valida...</td>\n",
              "    </tr>\n",
              "    <tr>\n",
              "      <th>3</th>\n",
              "      <td>3</td>\n",
              "      <td>Wikinews:Flagged revisions</td>\n",
              "      <td>https://en.wikinews.org/wiki/Help:Page_validation</td>\n",
              "      <td>2023-05-11</td>\n",
              "      <td>[https://en.wikinews.org/w/index.php?title=Hel...</td>\n",
              "    </tr>\n",
              "    <tr>\n",
              "      <th>4</th>\n",
              "      <td>4</td>\n",
              "      <td>Category:Space</td>\n",
              "      <td>https://en.wikinews.org/wiki/Category:Space</td>\n",
              "      <td>2023-05-11</td>\n",
              "      <td>[https://en.wikinews.org/wiki/Saudi_Arabia_ann...</td>\n",
              "    </tr>\n",
              "  </tbody>\n",
              "</table>\n",
              "</div>\n",
              "      <button class=\"colab-df-convert\" onclick=\"convertToInteractive('df-b0847f18-9011-41ac-b215-5bcd051fa697')\"\n",
              "              title=\"Convert this dataframe to an interactive table.\"\n",
              "              style=\"display:none;\">\n",
              "        \n",
              "  <svg xmlns=\"http://www.w3.org/2000/svg\" height=\"24px\"viewBox=\"0 0 24 24\"\n",
              "       width=\"24px\">\n",
              "    <path d=\"M0 0h24v24H0V0z\" fill=\"none\"/>\n",
              "    <path d=\"M18.56 5.44l.94 2.06.94-2.06 2.06-.94-2.06-.94-.94-2.06-.94 2.06-2.06.94zm-11 1L8.5 8.5l.94-2.06 2.06-.94-2.06-.94L8.5 2.5l-.94 2.06-2.06.94zm10 10l.94 2.06.94-2.06 2.06-.94-2.06-.94-.94-2.06-.94 2.06-2.06.94z\"/><path d=\"M17.41 7.96l-1.37-1.37c-.4-.4-.92-.59-1.43-.59-.52 0-1.04.2-1.43.59L10.3 9.45l-7.72 7.72c-.78.78-.78 2.05 0 2.83L4 21.41c.39.39.9.59 1.41.59.51 0 1.02-.2 1.41-.59l7.78-7.78 2.81-2.81c.8-.78.8-2.07 0-2.86zM5.41 20L4 18.59l7.72-7.72 1.47 1.35L5.41 20z\"/>\n",
              "  </svg>\n",
              "      </button>\n",
              "      \n",
              "  <style>\n",
              "    .colab-df-container {\n",
              "      display:flex;\n",
              "      flex-wrap:wrap;\n",
              "      gap: 12px;\n",
              "    }\n",
              "\n",
              "    .colab-df-convert {\n",
              "      background-color: #E8F0FE;\n",
              "      border: none;\n",
              "      border-radius: 50%;\n",
              "      cursor: pointer;\n",
              "      display: none;\n",
              "      fill: #1967D2;\n",
              "      height: 32px;\n",
              "      padding: 0 0 0 0;\n",
              "      width: 32px;\n",
              "    }\n",
              "\n",
              "    .colab-df-convert:hover {\n",
              "      background-color: #E2EBFA;\n",
              "      box-shadow: 0px 1px 2px rgba(60, 64, 67, 0.3), 0px 1px 3px 1px rgba(60, 64, 67, 0.15);\n",
              "      fill: #174EA6;\n",
              "    }\n",
              "\n",
              "    [theme=dark] .colab-df-convert {\n",
              "      background-color: #3B4455;\n",
              "      fill: #D2E3FC;\n",
              "    }\n",
              "\n",
              "    [theme=dark] .colab-df-convert:hover {\n",
              "      background-color: #434B5C;\n",
              "      box-shadow: 0px 1px 3px 1px rgba(0, 0, 0, 0.15);\n",
              "      filter: drop-shadow(0px 1px 2px rgba(0, 0, 0, 0.3));\n",
              "      fill: #FFFFFF;\n",
              "    }\n",
              "  </style>\n",
              "\n",
              "      <script>\n",
              "        const buttonEl =\n",
              "          document.querySelector('#df-b0847f18-9011-41ac-b215-5bcd051fa697 button.colab-df-convert');\n",
              "        buttonEl.style.display =\n",
              "          google.colab.kernel.accessAllowed ? 'block' : 'none';\n",
              "\n",
              "        async function convertToInteractive(key) {\n",
              "          const element = document.querySelector('#df-b0847f18-9011-41ac-b215-5bcd051fa697');\n",
              "          const dataTable =\n",
              "            await google.colab.kernel.invokeFunction('convertToInteractive',\n",
              "                                                     [key], {});\n",
              "          if (!dataTable) return;\n",
              "\n",
              "          const docLinkHtml = 'Like what you see? Visit the ' +\n",
              "            '<a target=\"_blank\" href=https://colab.research.google.com/notebooks/data_table.ipynb>data table notebook</a>'\n",
              "            + ' to learn more about interactive tables.';\n",
              "          element.innerHTML = '';\n",
              "          dataTable['output_type'] = 'display_data';\n",
              "          await google.colab.output.renderOutput(dataTable, element);\n",
              "          const docLink = document.createElement('div');\n",
              "          docLink.innerHTML = docLinkHtml;\n",
              "          element.appendChild(docLink);\n",
              "        }\n",
              "      </script>\n",
              "    </div>\n",
              "  </div>\n",
              "  "
            ]
          },
          "metadata": {},
          "execution_count": 41
        }
      ],
      "source": [
        "article_df.head()"
      ]
    },
    {
      "cell_type": "code",
      "execution_count": null,
      "metadata": {
        "colab": {
          "base_uri": "https://localhost:8080/",
          "height": 206
        },
        "id": "liDDqlEhu9TV",
        "outputId": "e7d290a5-f667-45eb-a513-df78d271ba90"
      },
      "outputs": [
        {
          "output_type": "execute_result",
          "data": {
            "text/plain": [
              "   article_id                                            content  \\\n",
              "0           0  tuesday may sunday nzst utc rocket lab electro...   \n",
              "1           1  category space covering anything beyond earth ...   \n",
              "2           2                                           redirect   \n",
              "3           3  wikinews currently running mediawiki flagged r...   \n",
              "4           4  category space covering anything beyond earth ...   \n",
              "\n",
              "                                       keywords_dict  \n",
              "0  rocket, tropics, observations, hurricane, sate...  \n",
              "1  category, spaceports, groundbased, observatori...  \n",
              "2  redirect, 한국어, forensic, forecasts, foreclose,...  \n",
              "3  sighting, flagged, peer, revisions, default, d...  \n",
              "4  category, spaceports, groundbased, observatori...  "
            ],
            "text/html": [
              "\n",
              "  <div id=\"df-795cedcd-2bdb-460a-a4a9-8b98c30b68b3\">\n",
              "    <div class=\"colab-df-container\">\n",
              "      <div>\n",
              "<style scoped>\n",
              "    .dataframe tbody tr th:only-of-type {\n",
              "        vertical-align: middle;\n",
              "    }\n",
              "\n",
              "    .dataframe tbody tr th {\n",
              "        vertical-align: top;\n",
              "    }\n",
              "\n",
              "    .dataframe thead th {\n",
              "        text-align: right;\n",
              "    }\n",
              "</style>\n",
              "<table border=\"1\" class=\"dataframe\">\n",
              "  <thead>\n",
              "    <tr style=\"text-align: right;\">\n",
              "      <th></th>\n",
              "      <th>article_id</th>\n",
              "      <th>content</th>\n",
              "      <th>keywords_dict</th>\n",
              "    </tr>\n",
              "  </thead>\n",
              "  <tbody>\n",
              "    <tr>\n",
              "      <th>0</th>\n",
              "      <td>0</td>\n",
              "      <td>tuesday may sunday nzst utc rocket lab electro...</td>\n",
              "      <td>rocket, tropics, observations, hurricane, sate...</td>\n",
              "    </tr>\n",
              "    <tr>\n",
              "      <th>1</th>\n",
              "      <td>1</td>\n",
              "      <td>category space covering anything beyond earth ...</td>\n",
              "      <td>category, spaceports, groundbased, observatori...</td>\n",
              "    </tr>\n",
              "    <tr>\n",
              "      <th>2</th>\n",
              "      <td>2</td>\n",
              "      <td>redirect</td>\n",
              "      <td>redirect, 한국어, forensic, forecasts, foreclose,...</td>\n",
              "    </tr>\n",
              "    <tr>\n",
              "      <th>3</th>\n",
              "      <td>3</td>\n",
              "      <td>wikinews currently running mediawiki flagged r...</td>\n",
              "      <td>sighting, flagged, peer, revisions, default, d...</td>\n",
              "    </tr>\n",
              "    <tr>\n",
              "      <th>4</th>\n",
              "      <td>4</td>\n",
              "      <td>category space covering anything beyond earth ...</td>\n",
              "      <td>category, spaceports, groundbased, observatori...</td>\n",
              "    </tr>\n",
              "  </tbody>\n",
              "</table>\n",
              "</div>\n",
              "      <button class=\"colab-df-convert\" onclick=\"convertToInteractive('df-795cedcd-2bdb-460a-a4a9-8b98c30b68b3')\"\n",
              "              title=\"Convert this dataframe to an interactive table.\"\n",
              "              style=\"display:none;\">\n",
              "        \n",
              "  <svg xmlns=\"http://www.w3.org/2000/svg\" height=\"24px\"viewBox=\"0 0 24 24\"\n",
              "       width=\"24px\">\n",
              "    <path d=\"M0 0h24v24H0V0z\" fill=\"none\"/>\n",
              "    <path d=\"M18.56 5.44l.94 2.06.94-2.06 2.06-.94-2.06-.94-.94-2.06-.94 2.06-2.06.94zm-11 1L8.5 8.5l.94-2.06 2.06-.94-2.06-.94L8.5 2.5l-.94 2.06-2.06.94zm10 10l.94 2.06.94-2.06 2.06-.94-2.06-.94-.94-2.06-.94 2.06-2.06.94z\"/><path d=\"M17.41 7.96l-1.37-1.37c-.4-.4-.92-.59-1.43-.59-.52 0-1.04.2-1.43.59L10.3 9.45l-7.72 7.72c-.78.78-.78 2.05 0 2.83L4 21.41c.39.39.9.59 1.41.59.51 0 1.02-.2 1.41-.59l7.78-7.78 2.81-2.81c.8-.78.8-2.07 0-2.86zM5.41 20L4 18.59l7.72-7.72 1.47 1.35L5.41 20z\"/>\n",
              "  </svg>\n",
              "      </button>\n",
              "      \n",
              "  <style>\n",
              "    .colab-df-container {\n",
              "      display:flex;\n",
              "      flex-wrap:wrap;\n",
              "      gap: 12px;\n",
              "    }\n",
              "\n",
              "    .colab-df-convert {\n",
              "      background-color: #E8F0FE;\n",
              "      border: none;\n",
              "      border-radius: 50%;\n",
              "      cursor: pointer;\n",
              "      display: none;\n",
              "      fill: #1967D2;\n",
              "      height: 32px;\n",
              "      padding: 0 0 0 0;\n",
              "      width: 32px;\n",
              "    }\n",
              "\n",
              "    .colab-df-convert:hover {\n",
              "      background-color: #E2EBFA;\n",
              "      box-shadow: 0px 1px 2px rgba(60, 64, 67, 0.3), 0px 1px 3px 1px rgba(60, 64, 67, 0.15);\n",
              "      fill: #174EA6;\n",
              "    }\n",
              "\n",
              "    [theme=dark] .colab-df-convert {\n",
              "      background-color: #3B4455;\n",
              "      fill: #D2E3FC;\n",
              "    }\n",
              "\n",
              "    [theme=dark] .colab-df-convert:hover {\n",
              "      background-color: #434B5C;\n",
              "      box-shadow: 0px 1px 3px 1px rgba(0, 0, 0, 0.15);\n",
              "      filter: drop-shadow(0px 1px 2px rgba(0, 0, 0, 0.3));\n",
              "      fill: #FFFFFF;\n",
              "    }\n",
              "  </style>\n",
              "\n",
              "      <script>\n",
              "        const buttonEl =\n",
              "          document.querySelector('#df-795cedcd-2bdb-460a-a4a9-8b98c30b68b3 button.colab-df-convert');\n",
              "        buttonEl.style.display =\n",
              "          google.colab.kernel.accessAllowed ? 'block' : 'none';\n",
              "\n",
              "        async function convertToInteractive(key) {\n",
              "          const element = document.querySelector('#df-795cedcd-2bdb-460a-a4a9-8b98c30b68b3');\n",
              "          const dataTable =\n",
              "            await google.colab.kernel.invokeFunction('convertToInteractive',\n",
              "                                                     [key], {});\n",
              "          if (!dataTable) return;\n",
              "\n",
              "          const docLinkHtml = 'Like what you see? Visit the ' +\n",
              "            '<a target=\"_blank\" href=https://colab.research.google.com/notebooks/data_table.ipynb>data table notebook</a>'\n",
              "            + ' to learn more about interactive tables.';\n",
              "          element.innerHTML = '';\n",
              "          dataTable['output_type'] = 'display_data';\n",
              "          await google.colab.output.renderOutput(dataTable, element);\n",
              "          const docLink = document.createElement('div');\n",
              "          docLink.innerHTML = docLinkHtml;\n",
              "          element.appendChild(docLink);\n",
              "        }\n",
              "      </script>\n",
              "    </div>\n",
              "  </div>\n",
              "  "
            ]
          },
          "metadata": {},
          "execution_count": 42
        }
      ],
      "source": [
        "content_df.head()"
      ]
    },
    {
      "cell_type": "code",
      "execution_count": null,
      "metadata": {
        "id": "xTVrah83tTzM"
      },
      "outputs": [],
      "source": [
        "article_df.to_json('article.json', orient='records')"
      ]
    },
    {
      "cell_type": "code",
      "execution_count": null,
      "metadata": {
        "id": "h0tRsul-tXeN"
      },
      "outputs": [],
      "source": [
        "content_df.to_json('content.json', orient='records')"
      ]
    },
    {
      "cell_type": "markdown",
      "source": [
        "Connecting to MongoDB instance"
      ],
      "metadata": {
        "id": "xImYBOlXHufT"
      }
    },
    {
      "cell_type": "code",
      "execution_count": null,
      "metadata": {
        "colab": {
          "base_uri": "https://localhost:8080/"
        },
        "id": "glyZAxbOu-be",
        "outputId": "ea349d72-d04d-4572-cc50-92308e11fd11"
      },
      "outputs": [
        {
          "output_type": "stream",
          "name": "stdout",
          "text": [
            "Requirement already satisfied: pymongo in /Library/Frameworks/Python.framework/Versions/3.10/lib/python3.10/site-packages (4.3.3)\r\n",
            "Requirement already satisfied: dnspython<3.0.0,>=1.16.0 in /Library/Frameworks/Python.framework/Versions/3.10/lib/python3.10/site-packages (from pymongo) (2.3.0)\n",
            "\n",
            "\u001b[1m[\u001b[0m\u001b[34;49mnotice\u001b[0m\u001b[1;39;49m]\u001b[0m\u001b[39;49m A new release of pip available: \u001b[0m\u001b[31;49m22.3.1\u001b[0m\u001b[39;49m -> \u001b[0m\u001b[32;49m23.1.2\u001b[0m\n",
            "\u001b[1m[\u001b[0m\u001b[34;49mnotice\u001b[0m\u001b[1;39;49m]\u001b[0m\u001b[39;49m To update, run: \u001b[0m\u001b[32;49mpip install --upgrade pip\u001b[0m\n"
          ]
        }
      ],
      "source": [
        "!pip install pymongo"
      ]
    },
    {
      "cell_type": "code",
      "execution_count": null,
      "metadata": {
        "id": "Sco8j1dvu_iC"
      },
      "outputs": [],
      "source": [
        "import pymongo\n",
        "\n",
        "client = pymongo.MongoClient('mongodb://127.0.0.1:27017/', connectTimeoutMS=30000)\n",
        "db = client.dbsp\n",
        "\n",
        "article_table = db['article'] \n",
        "content_table = db['content']"
      ]
    },
    {
      "cell_type": "code",
      "execution_count": null,
      "metadata": {
        "colab": {
          "base_uri": "https://localhost:8080/"
        },
        "id": "qrcMsosnvC9Y",
        "outputId": "4659b3cc-b7ad-4ccc-def1-650ea66e246a"
      },
      "outputs": [
        {
          "data": {
            "text/plain": [
              "<pymongo.results.InsertManyResult at 0x299d19030>"
            ]
          },
          "execution_count": 61,
          "metadata": {},
          "output_type": "execute_result"
        }
      ],
      "source": [
        "article_docs = article_df.to_dict(orient='records')\n",
        "content_docs = content_df.to_dict(orient='records')\n",
        "\n",
        "article_table.insert_many(article_docs)\n",
        "content_table.insert_many(content_docs)"
      ]
    },
    {
      "cell_type": "code",
      "execution_count": null,
      "metadata": {
        "colab": {
          "base_uri": "https://localhost:8080/"
        },
        "id": "A2b2ARg_3P9t",
        "outputId": "5de398f5-1523-4a3c-c1ea-d261f1c43b20"
      },
      "outputs": [
        {
          "data": {
            "text/plain": [
              "<pymongo.results.InsertManyResult at 0x299d199f0>"
            ]
          },
          "execution_count": 68,
          "metadata": {},
          "output_type": "execute_result"
        }
      ],
      "source": [
        "article_docs = article_df.to_dict(orient='records')\n",
        "content_docs = content_df.to_dict(orient='records')\n",
        "\n",
        "article_table.insert_many(article_docs)\n",
        "content_table.insert_many(content_docs)"
      ]
    },
    {
      "cell_type": "code",
      "source": [],
      "metadata": {
        "id": "TRr5N_oteDtW"
      },
      "execution_count": null,
      "outputs": []
    },
    {
      "cell_type": "markdown",
      "metadata": {
        "id": "v0JPNa74wUqc"
      },
      "source": [
        "Finding URLs mapped to search term as per Tf/Idf score"
      ]
    },
    {
      "cell_type": "markdown",
      "source": [
        "Query that was executed on MongoDB: \n",
        "\n",
        "`db.article.aggregate( [ {$match : {title: {$regex: \"US\",$options:\"i\"}}}, { $lookup: { from: \"content\", localField: \"article_id\", foreignField: \"article_id\", as: \"content\" }  } ,{$match : {\"content.keywords_dict\": {$regex: \"US\",$options:\"i\"}}} ,  { $project: {article_id:1, outbound_links:1}}] `"
      ],
      "metadata": {
        "id": "uVNyMh1ad7lR"
      }
    },
    {
      "cell_type": "code",
      "source": [
        "search = input(\"Enter the keyword to be searched: \")"
      ],
      "metadata": {
        "colab": {
          "base_uri": "https://localhost:8080/"
        },
        "id": "AWfS4iIqIDm4",
        "outputId": "2e3c1edd-1e5b-4133-e911-f286d7d45cea"
      },
      "execution_count": null,
      "outputs": [
        {
          "name": "stdout",
          "output_type": "stream",
          "text": [
            "Enter the keyword to be searched: usa\n"
          ]
        }
      ]
    },
    {
      "cell_type": "code",
      "execution_count": null,
      "metadata": {
        "colab": {
          "base_uri": "https://localhost:8080/"
        },
        "id": "8Zp-2JCFwUJ2",
        "outputId": "bd298c83-f6f7-4e66-85ab-5e0f7f84e99d"
      },
      "outputs": [
        {
          "output_type": "stream",
          "name": "stdout",
          "text": [
            "{'_id': ObjectId('645d60fd7efa6e38cc4f9550'), 'article_id': 1434, 'outbound_links': ['https://en.wikinews.org/w/index.php?title=USA_Today&redirect=no', 'https://en.wikinews.org/wiki/Virginia', 'https://en.wikinews.org/wiki/On_the_campaign_trail_in_the_USA,_September_2016', 'https://en.wikinews.org/wiki/Facebook_hired_PR_firm_to_discredit_Google,_reveals_leaked_correspondence', 'https://en.wikinews.org/wiki/Obama_approval_ratings_hit_new_lows', 'https://en.wikinews.org/wiki/%22Anonymous%22_releases_statements_outlining_%22War_on_Scientology%22', 'https://en.wikinews.org/wiki/British_top_General_says_troops_are_unwelcome_in_Iraq', 'https://en.wikinews.org/wiki/Verizon_says_customer_phone_records_were_not_handed_over_to_the_NSA', 'https://en.wikinews.org/wiki/BellSouth_denies_phone_records_were_handed_over_to_the_NSA', 'https://en.wikinews.org/wiki/USA_Today_reports_NSA_obtained_call_logs_from_communications_companies', 'https://en.wikinews.org/wiki/Polling_data_on_President_Bush%27s_approval_rating_indicates_recent_decline', 'https://en.wikinews.org/wiki/English_Wikipedia_reaches_one_million_articles', 'https://en.wikinews.org/wiki/Wikinews:Dialog/do', 'https://en.wikinews.org/wiki/File:USA_Today_2012logo.svg', 'https://en.wikinews.org/wiki/34%25_more_Americans_killed_in_Iraq_during_past_12_months_than_in_previous_12_months', 'https://en.wikinews.org/wiki/ACLU:_Gen._Sanchez_possibly_perjured_himself_at_2004_Senate_inquiry', 'https://en.wikinews.org/wiki/Author_of_Wikipedia_character_assassination_takes_responsibility', 'https://en.wikinews.org/wiki/U.S._newspaper_circulation_continues_20-year_slide', 'https://en.wikinews.org/wiki/Special:Categories', 'https://en.wikinews.org/wiki/Category:Sources/Media', 'https://en.wikinews.org/wiki/Category:Virginia', 'https://en.wikinews.org/wiki/Category:United_States', 'https://en.wikinews.org/wiki/Category:Pages_using_DynamicPageList', 'https://en.wikinews.org/wiki/Category:Pages_with_defaulting_non-local_links', 'https://en.wikinews.org/wiki/Category:Topic_cats_with_suppressed_portal_link', 'https://en.wikinews.org/wiki/Category:Topic_cats_with_offset_parameter', 'https://en.wikinews.org/wiki/Special:MyTalk', 'https://en.wikinews.org/wiki/Special:MyContributions', 'https://en.wikinews.org/w/index.php?title=Special:CreateAccount&returnto=Category%3AUSA+Today', 'https://en.wikinews.org/w/index.php?title=Special:UserLogin&returnto=Category%3AUSA+Today', 'https://en.wikinews.org/wiki/Category:USA_Today', 'https://en.wikinews.org/w/index.php?title=Category_talk:USA_Today&action=edit&redlink=1', 'https://en.wikinews.org/w/index.php?title=Category:USA_Today&action=edit', 'https://en.wikinews.org/w/index.php?title=Category:USA_Today&action=history', 'https://en.wikinews.org/wiki/Main_Page', 'https://en.wikinews.org/wiki/Wikinews:Newsroom', 'https://en.wikinews.org/wiki/Special:RecentChanges', 'https://en.wikinews.org/wiki/Special:Random', 'https://en.wikinews.org/wiki/Wikinews:Archives', 'https://en.wikinews.org/wiki/Wikinews:Introduction', 'https://en.wikinews.org/wiki/Wikinews:Pillars_of_writing', 'https://en.wikinews.org/wiki/Wikinews:Writing_an_article', 'https://en.wikinews.org/wiki/Wikinews:Water_cooler', 'https://en.wikinews.org/wiki/Wikinews:Style_guide', 'https://en.wikinews.org/wiki/Wikinews:IRC', 'https://en.wikinews.org/wiki/Wikinews:Contact_us', 'https://en.wikinews.org/wiki/Category:Africa', 'https://en.wikinews.org/wiki/Category:Antarctica', 'https://en.wikinews.org/wiki/Category:Asia', 'https://en.wikinews.org/wiki/Category:Central_America', 'https://en.wikinews.org/wiki/Category:Europe', 'https://en.wikinews.org/wiki/Category:Middle_East', 'https://en.wikinews.org/wiki/Category:North_America', 'https://en.wikinews.org/wiki/Category:Oceania', 'https://en.wikinews.org/wiki/Category:South_America', 'https://en.wikinews.org/wiki/Special:WhatLinksHere/Category:USA_Today', 'https://en.wikinews.org/wiki/Special:RecentChangesLinked/Category:USA_Today', 'https://en.wikinews.org/wiki/Special:SpecialPages', 'https://en.wikinews.org/w/index.php?title=Category:USA_Today&oldid=4723436', 'https://en.wikinews.org/w/index.php?title=Category:USA_Today&action=info', 'https://en.wikinews.org/w/index.php?title=Special:Book&bookcmd=book_creator&referer=Category%3AUSA+Today', 'https://en.wikinews.org/w/index.php?title=Special:DownloadAsPdf&page=Category%3AUSA_Today&action=show-download-screen', 'https://en.wikinews.org/w/index.php?title=Category:USA_Today&printable=yes', 'https://en.wikinews.org/wiki/Wikinews:About', 'https://en.wikinews.org/wiki/Wikinews:General_disclaimer']}\n",
            "{'_id': ObjectId('645d60fd7efa6e38cc4f9a27'), 'article_id': 2673, 'outbound_links': ['https://en.wikinews.org/wiki/File:Commons-logo.svg', 'https://en.wikinews.org/wiki/Arizona_applies_ban_on_autodialers_to_mobile_phone_spam', 'https://en.wikinews.org/wiki/Arizona_may_have_driest_winter_in_centuries', 'https://en.wikinews.org/wiki/Former_Arizona_Governor_says_he_saw_a_UFO_during_the_1997_Phoenix_Lights', 'https://en.wikinews.org/wiki/Pipe_bomb_found_near_nuclear_power_plant_in_Arizona', 'https://en.wikinews.org/wiki/Volunteers_gather_to_help_patrol_Arizona%27s_border_with_Mexico', 'https://en.wikinews.org/wiki/Talk:Driftwood_crucifix_listed_on_eBay_for_$25,000', 'https://en.wikinews.org/wiki/Talk:Volunteers_gather_to_help_patrol_Arizona%27s_border_with_Mexico', 'https://en.wikinews.org/wiki/Wikinews:2005/April', 'https://en.wikinews.org/wiki/Wikinews:2005/April/3', 'https://en.wikinews.org/wiki/Special:MyTalk', 'https://en.wikinews.org/wiki/Special:MyContributions', 'https://en.wikinews.org/w/index.php?title=Special:CreateAccount&returnto=File%3AMap+of+USA+highlighting+Arizona.png', 'https://en.wikinews.org/w/index.php?title=Special:UserLogin&returnto=File%3AMap+of+USA+highlighting+Arizona.png', 'https://en.wikinews.org/wiki/File:Map_of_USA_highlighting_Arizona.png', 'https://en.wikinews.org/w/index.php?title=File_talk:Map_of_USA_highlighting_Arizona.png&action=edit&redlink=1', 'https://en.wikinews.org/w/index.php?title=File:Map_of_USA_highlighting_Arizona.png&action=edit', 'https://en.wikinews.org/wiki/Main_Page', 'https://en.wikinews.org/wiki/Wikinews:Newsroom', 'https://en.wikinews.org/wiki/Special:RecentChanges', 'https://en.wikinews.org/wiki/Special:Random', 'https://en.wikinews.org/wiki/Wikinews:Archives', 'https://en.wikinews.org/wiki/Wikinews:Introduction', 'https://en.wikinews.org/wiki/Wikinews:Pillars_of_writing', 'https://en.wikinews.org/wiki/Wikinews:Writing_an_article', 'https://en.wikinews.org/wiki/Wikinews:Water_cooler', 'https://en.wikinews.org/wiki/Wikinews:Style_guide', 'https://en.wikinews.org/wiki/Wikinews:IRC', 'https://en.wikinews.org/wiki/Wikinews:Contact_us', 'https://en.wikinews.org/wiki/Category:Africa', 'https://en.wikinews.org/wiki/Category:Antarctica', 'https://en.wikinews.org/wiki/Category:Asia', 'https://en.wikinews.org/wiki/Category:Central_America', 'https://en.wikinews.org/wiki/Category:Europe', 'https://en.wikinews.org/wiki/Category:Middle_East', 'https://en.wikinews.org/wiki/Category:North_America', 'https://en.wikinews.org/wiki/Category:Oceania', 'https://en.wikinews.org/wiki/Category:South_America', 'https://en.wikinews.org/wiki/Special:WhatLinksHere/File:Map_of_USA_highlighting_Arizona.png', 'https://en.wikinews.org/wiki/Special:SpecialPages', 'https://en.wikinews.org/w/index.php?title=File:Map_of_USA_highlighting_Arizona.png&action=info', 'https://en.wikinews.org/wiki/Wikinews:About', 'https://en.wikinews.org/wiki/Wikinews:General_disclaimer']}\n",
            "{'_id': ObjectId('645d60fd7efa6e38cc4f9cd2'), 'article_id': 3356, 'outbound_links': ['https://en.wikinews.org/wiki/Help:Page_validation', 'https://en.wikinews.org/wiki/File:Stop_hand_nuvola.svg', 'https://en.wikinews.org/wiki/Wikinews:PROD', 'https://en.wikinews.org/wiki/Template:Review', 'https://en.wikinews.org/wiki/File:Broom_icon.svg', 'https://en.wikinews.org/wiki/Talk:9-10_May_International_symposium_Isabelle_de_Charri%C3%A8re_(1740-1805)_in_Lausanne_en_Neuch%C3%A2tel', 'https://en.wikinews.org/wiki/Wikinews:Publish_checklist', 'https://en.wikinews.org/wiki/Wikinews:Dialog/do', 'https://en.wikinews.org/wiki/Template:Assistant:Submit/form', 'https://en.wikinews.org/wiki/File:Isabelle_de_Charri%C3%A8re_-_Quentin_de_La_Tour.jpg', 'https://en.wikinews.org/w/index.php?title=9-10_May_International_symposium_Isabelle_de_Charri%C3%A8re_(1740-1805)_in_Lausanne_en_Neuch%C3%A2tel&action=edit&section=1', 'https://en.wikinews.org/wiki/Special:Categories', 'https://en.wikinews.org/wiki/Category:Abandoned,_to_be_deleted_today', 'https://en.wikinews.org/wiki/Category:Abandoned', 'https://en.wikinews.org/wiki/Category:Disputed', 'https://en.wikinews.org/wiki/Category:Article_assistance_requested', 'https://en.wikinews.org/wiki/Category:April_29,_2023', 'https://en.wikinews.org/wiki/Category:Articles_with_broken_source_templates', 'https://en.wikinews.org/wiki/Category:Developing_or_disputed', 'https://en.wikinews.org/wiki/Special:MyTalk', 'https://en.wikinews.org/wiki/Special:MyContributions', 'https://en.wikinews.org/w/index.php?title=Special:CreateAccount&returnto=9-10+May+International+symposium+Isabelle+de+Charri%C3%A8re+%281740-1805%29+in+Lausanne+en+Neuch%C3%A2tel', 'https://en.wikinews.org/w/index.php?title=Special:UserLogin&returnto=9-10+May+International+symposium+Isabelle+de+Charri%C3%A8re+%281740-1805%29+in+Lausanne+en+Neuch%C3%A2tel', 'https://en.wikinews.org/wiki/9-10_May_International_symposium_Isabelle_de_Charri%C3%A8re_(1740-1805)_in_Lausanne_en_Neuch%C3%A2tel', 'https://en.wikinews.org/w/index.php?title=9-10_May_International_symposium_Isabelle_de_Charri%C3%A8re_(1740-1805)_in_Lausanne_en_Neuch%C3%A2tel&action=edit', 'https://en.wikinews.org/w/index.php?title=9-10_May_International_symposium_Isabelle_de_Charri%C3%A8re_(1740-1805)_in_Lausanne_en_Neuch%C3%A2tel&action=history', 'https://en.wikinews.org/wiki/Main_Page', 'https://en.wikinews.org/wiki/Wikinews:Newsroom', 'https://en.wikinews.org/wiki/Special:RecentChanges', 'https://en.wikinews.org/wiki/Special:Random', 'https://en.wikinews.org/wiki/Wikinews:Archives', 'https://en.wikinews.org/wiki/Wikinews:Introduction', 'https://en.wikinews.org/wiki/Wikinews:Pillars_of_writing', 'https://en.wikinews.org/wiki/Wikinews:Writing_an_article', 'https://en.wikinews.org/wiki/Wikinews:Water_cooler', 'https://en.wikinews.org/wiki/Wikinews:Style_guide', 'https://en.wikinews.org/wiki/Wikinews:IRC', 'https://en.wikinews.org/wiki/Wikinews:Contact_us', 'https://en.wikinews.org/wiki/Category:Africa', 'https://en.wikinews.org/wiki/Category:Antarctica', 'https://en.wikinews.org/wiki/Category:Asia', 'https://en.wikinews.org/wiki/Category:Central_America', 'https://en.wikinews.org/wiki/Category:Europe', 'https://en.wikinews.org/wiki/Category:Middle_East', 'https://en.wikinews.org/wiki/Category:North_America', 'https://en.wikinews.org/wiki/Category:Oceania', 'https://en.wikinews.org/wiki/Category:South_America', 'https://en.wikinews.org/wiki/Special:WhatLinksHere/9-10_May_International_symposium_Isabelle_de_Charri%C3%A8re_(1740-1805)_in_Lausanne_en_Neuch%C3%A2tel', 'https://en.wikinews.org/wiki/Special:RecentChangesLinked/9-10_May_International_symposium_Isabelle_de_Charri%C3%A8re_(1740-1805)_in_Lausanne_en_Neuch%C3%A2tel', 'https://en.wikinews.org/wiki/Special:SpecialPages', 'https://en.wikinews.org/w/index.php?title=9-10_May_International_symposium_Isabelle_de_Charri%C3%A8re_(1740-1805)_in_Lausanne_en_Neuch%C3%A2tel&oldid=4726098', 'https://en.wikinews.org/w/index.php?title=9-10_May_International_symposium_Isabelle_de_Charri%C3%A8re_(1740-1805)_in_Lausanne_en_Neuch%C3%A2tel&action=info', 'https://en.wikinews.org/w/index.php?title=Special:CiteThisPage&page=9-10_May_International_symposium_Isabelle_de_Charri%C3%A8re_%281740-1805%29_in_Lausanne_en_Neuch%C3%A2tel&id=4726098&wpFormIdentifier=titleform', 'https://en.wikinews.org/w/index.php?title=Special:Book&bookcmd=book_creator&referer=9-10+May+International+symposium+Isabelle+de+Charri%C3%A8re+%281740-1805%29+in+Lausanne+en+Neuch%C3%A2tel', 'https://en.wikinews.org/w/index.php?title=Special:DownloadAsPdf&page=9-10_May_International_symposium_Isabelle_de_Charri%C3%A8re_%281740-1805%29_in_Lausanne_en_Neuch%C3%A2tel&action=show-download-screen', 'https://en.wikinews.org/w/index.php?title=9-10_May_International_symposium_Isabelle_de_Charri%C3%A8re_(1740-1805)_in_Lausanne_en_Neuch%C3%A2tel&printable=yes', 'https://en.wikinews.org/wiki/Wikinews:About', 'https://en.wikinews.org/wiki/Wikinews:General_disclaimer']}\n",
            "{'_id': ObjectId('645d60fd7efa6e38cc4f9ee7'), 'article_id': 3889, 'outbound_links': ['https://en.wikinews.org/w/index.php?title=Usain_Bolt_to_run_150-meter_race_in_Manchester&redirect=no', 'https://en.wikinews.org/wiki/Sports', 'https://en.wikinews.org/wiki/File:Sports_icon.png', 'https://en.wikinews.org/wiki/British_boxer_Amir_Khan_receives_ban_for_doping', 'https://en.wikinews.org/wiki/%22National_treasure%22:_Former_Brazilian_footballer_Pel%C3%A9_dies_at_age_82', 'https://en.wikinews.org/wiki/Coolum_win_tier_1_women%E2%80%99s_cricket_premiership_on_Australia%E2%80%99s_Sunshine_Coast', 'https://en.wikinews.org/wiki/Coolum_to_host_Grand_Final_of_Tier_1_women%27s_cricket_final_on_Australia%27s_Sunshine_Coast', 'https://en.wikinews.org/wiki/Glasshouse_in_to_Tier_1_women%27s_cricket_final_on_Australia%27s_Sunshine_Coast', 'https://en.wikinews.org/wiki/Wikinews:PILLARS', 'https://en.wikinews.org/wiki/Wikinews:WRITE', 'https://en.wikinews.org/wiki/Usain_Bolt', 'https://en.wikinews.org/wiki/Jamaica', 'https://en.wikinews.org/wiki/Manchester', 'https://en.wikinews.org/wiki/England', 'https://en.wikinews.org/wiki/2008_Olympic_Games', 'https://en.wikinews.org/wiki/Beijing', 'https://en.wikinews.org/wiki/China', 'https://en.wikinews.org/wiki/Europe', 'https://en.wikinews.org/wiki/Berlin', 'https://en.wikinews.org/wiki/Germany', 'https://en.wikinews.org/wiki/United_Kingdom', 'https://en.wikinews.org/wiki/Comments:Usain_Bolt_to_run_150_metre_race_in_Manchester', 'https://en.wikinews.org/wiki/BBC_Sport', 'https://en.wikinews.org/wiki/The_Washington_Post', 'https://en.wikinews.org/wiki/Guardian.co.uk', 'https://en.wikinews.org/wiki/File:Padlock-silver-medium.svg', 'https://en.wikinews.org/wiki/Wikinews:Archive_conventions', 'https://en.wikinews.org/wiki/Template:Editprotected', 'https://en.wikinews.org/wiki/Talk:Usain_Bolt_to_run_150_metre_race_in_Manchester', 'https://en.wikinews.org/wiki/Wikinews:Admin_action_alerts#Edits_to_protected_pages', 'https://en.wikinews.org/wiki/Wikinews:Administrators', 'https://en.wikinews.org/wiki/Wikinews:ARCHIVE', 'https://en.wikinews.org/wiki/Special:Categories', 'https://en.wikinews.org/wiki/Category:March_19,_2009', 'https://en.wikinews.org/wiki/Category:Published', 'https://en.wikinews.org/wiki/Category:Europe', 'https://en.wikinews.org/wiki/Category:England', 'https://en.wikinews.org/wiki/Category:Caribbean', 'https://en.wikinews.org/wiki/Category:Jamaica', 'https://en.wikinews.org/wiki/Category:Sports', 'https://en.wikinews.org/wiki/Category:Athletics', 'https://en.wikinews.org/wiki/Category:Usain_Bolt', 'https://en.wikinews.org/wiki/Category:North_America', 'https://en.wikinews.org/wiki/Category:Manchester', 'https://en.wikinews.org/wiki/Category:Archived', 'https://en.wikinews.org/wiki/Category:Pages_with_template_loops', 'https://en.wikinews.org/wiki/Category:Pages_using_DynamicPageList', 'https://en.wikinews.org/wiki/Category:Pages_with_categorizable_local_links', 'https://en.wikinews.org/wiki/Category:Pages_with_defaulting_non-local_links', 'https://en.wikinews.org/wiki/Category:Articles_not_disputed', 'https://en.wikinews.org/wiki/Special:MyTalk', 'https://en.wikinews.org/wiki/Special:MyContributions', 'https://en.wikinews.org/w/index.php?title=Special:CreateAccount&returnto=Usain+Bolt+to+run+150+metre+race+in+Manchester', 'https://en.wikinews.org/w/index.php?title=Special:UserLogin&returnto=Usain+Bolt+to+run+150+metre+race+in+Manchester', 'https://en.wikinews.org/wiki/Usain_Bolt_to_run_150_metre_race_in_Manchester', 'https://en.wikinews.org/w/index.php?title=Usain_Bolt_to_run_150_metre_race_in_Manchester&action=edit', 'https://en.wikinews.org/w/index.php?title=Usain_Bolt_to_run_150_metre_race_in_Manchester&action=history', 'https://en.wikinews.org/wiki/Main_Page', 'https://en.wikinews.org/wiki/Wikinews:Newsroom', 'https://en.wikinews.org/wiki/Special:RecentChanges', 'https://en.wikinews.org/wiki/Special:Random', 'https://en.wikinews.org/wiki/Wikinews:Archives', 'https://en.wikinews.org/wiki/Wikinews:Introduction', 'https://en.wikinews.org/wiki/Wikinews:Pillars_of_writing', 'https://en.wikinews.org/wiki/Wikinews:Writing_an_article', 'https://en.wikinews.org/wiki/Wikinews:Water_cooler', 'https://en.wikinews.org/wiki/Wikinews:Style_guide', 'https://en.wikinews.org/wiki/Wikinews:IRC', 'https://en.wikinews.org/wiki/Wikinews:Contact_us', 'https://en.wikinews.org/wiki/Category:Africa', 'https://en.wikinews.org/wiki/Category:Antarctica', 'https://en.wikinews.org/wiki/Category:Asia', 'https://en.wikinews.org/wiki/Category:Central_America', 'https://en.wikinews.org/wiki/Category:Middle_East', 'https://en.wikinews.org/wiki/Category:Oceania', 'https://en.wikinews.org/wiki/Category:South_America', 'https://en.wikinews.org/wiki/Special:WhatLinksHere/Usain_Bolt_to_run_150_metre_race_in_Manchester', 'https://en.wikinews.org/wiki/Special:RecentChangesLinked/Usain_Bolt_to_run_150_metre_race_in_Manchester', 'https://en.wikinews.org/wiki/Special:SpecialPages', 'https://en.wikinews.org/w/index.php?title=Usain_Bolt_to_run_150_metre_race_in_Manchester&oldid=1533834', 'https://en.wikinews.org/w/index.php?title=Usain_Bolt_to_run_150_metre_race_in_Manchester&action=info', 'https://en.wikinews.org/w/index.php?title=Special:CiteThisPage&page=Usain_Bolt_to_run_150_metre_race_in_Manchester&id=1533834&wpFormIdentifier=titleform', 'https://en.wikinews.org/w/index.php?title=Special:Book&bookcmd=book_creator&referer=Usain+Bolt+to+run+150+metre+race+in+Manchester', 'https://en.wikinews.org/w/index.php?title=Special:DownloadAsPdf&page=Usain_Bolt_to_run_150_metre_race_in_Manchester&action=show-download-screen', 'https://en.wikinews.org/w/index.php?title=Usain_Bolt_to_run_150_metre_race_in_Manchester&printable=yes', 'https://en.wikinews.org/wiki/Wikinews:About', 'https://en.wikinews.org/wiki/Wikinews:General_disclaimer']}\n",
            "{'_id': ObjectId('645d60fd7efa6e38cc4fa52e'), 'article_id': 5496, 'outbound_links': ['https://en.wikinews.org/wiki/FBI_Investigates_250_thousand_poisoned_U.S._dollars', 'https://en.wikinews.org/wiki/Special:UserLogin', 'https://en.wikinews.org/wiki/Talk:FBI_Investigates_250_thousand_poisoned_U.S._dollars', 'https://en.wikinews.org/wiki/Template:Editprotected', 'https://en.wikinews.org/wiki/User:Jon_Kolbert', 'https://en.wikinews.org/wiki/Template:Archive', 'https://en.wikinews.org/w/index.php?title=Template:Archive&action=edit', 'https://en.wikinews.org/wiki/Template:Archived', 'https://en.wikinews.org/w/index.php?title=Template:Archived&action=edit', 'https://en.wikinews.org/wiki/Template:COinS', 'https://en.wikinews.org/w/index.php?title=Template:COinS&action=edit', 'https://en.wikinews.org/wiki/Template:Date', 'https://en.wikinews.org/w/index.php?title=Template:Date&action=edit', 'https://en.wikinews.org/wiki/Template:Haveyoursay', 'https://en.wikinews.org/w/index.php?title=Template:Haveyoursay&action=edit', 'https://en.wikinews.org/wiki/Template:Source', 'https://en.wikinews.org/w/index.php?title=Template:Source&action=edit', 'https://en.wikinews.org/wiki/Template:Source/pub', 'https://en.wikinews.org/w/index.php?title=Template:Source/pub&action=edit', 'https://en.wikinews.org/wiki/Template:Source/uc%3F', 'https://en.wikinews.org/w/index.php?title=Template:Source/uc%3F&action=edit', 'https://en.wikinews.org/wiki/Template:Tl', 'https://en.wikinews.org/w/index.php?title=Template:Tl&action=edit', 'https://en.wikinews.org/wiki/Template:W', 'https://en.wikinews.org/w/index.php?title=Template:W&action=edit', 'https://en.wikinews.org/wiki/Template:Xambox', 'https://en.wikinews.org/w/index.php?title=Template:Xambox&action=edit', 'https://en.wikinews.org/wiki/Special:MyTalk', 'https://en.wikinews.org/wiki/Special:MyContributions', 'https://en.wikinews.org/w/index.php?title=Special:CreateAccount&returnto=FBI+Investigates+250+thousand+poisoned+U.S.+dollars&returntoquery=action%3Dedit', 'https://en.wikinews.org/w/index.php?title=Special:UserLogin&returnto=FBI+Investigates+250+thousand+poisoned+U.S.+dollars&returntoquery=action%3Dedit', 'https://en.wikinews.org/w/index.php?title=FBI_Investigates_250_thousand_poisoned_U.S._dollars&action=edit', 'https://en.wikinews.org/w/index.php?title=FBI_Investigates_250_thousand_poisoned_U.S._dollars&action=history', 'https://en.wikinews.org/wiki/Main_Page', 'https://en.wikinews.org/wiki/Wikinews:Newsroom', 'https://en.wikinews.org/wiki/Special:RecentChanges', 'https://en.wikinews.org/wiki/Special:Random', 'https://en.wikinews.org/wiki/Wikinews:Archives', 'https://en.wikinews.org/wiki/Wikinews:Introduction', 'https://en.wikinews.org/wiki/Wikinews:Pillars_of_writing', 'https://en.wikinews.org/wiki/Wikinews:Writing_an_article', 'https://en.wikinews.org/wiki/Wikinews:Water_cooler', 'https://en.wikinews.org/wiki/Wikinews:Style_guide', 'https://en.wikinews.org/wiki/Wikinews:IRC', 'https://en.wikinews.org/wiki/Wikinews:Contact_us', 'https://en.wikinews.org/wiki/Category:Africa', 'https://en.wikinews.org/wiki/Category:Antarctica', 'https://en.wikinews.org/wiki/Category:Asia', 'https://en.wikinews.org/wiki/Category:Central_America', 'https://en.wikinews.org/wiki/Category:Europe', 'https://en.wikinews.org/wiki/Category:Middle_East', 'https://en.wikinews.org/wiki/Category:North_America', 'https://en.wikinews.org/wiki/Category:Oceania', 'https://en.wikinews.org/wiki/Category:South_America', 'https://en.wikinews.org/wiki/Special:WhatLinksHere/FBI_Investigates_250_thousand_poisoned_U.S._dollars', 'https://en.wikinews.org/wiki/Special:RecentChangesLinked/FBI_Investigates_250_thousand_poisoned_U.S._dollars', 'https://en.wikinews.org/wiki/Special:SpecialPages', 'https://en.wikinews.org/w/index.php?title=FBI_Investigates_250_thousand_poisoned_U.S._dollars&action=info', 'https://en.wikinews.org/wiki/Wikinews:About', 'https://en.wikinews.org/wiki/Wikinews:General_disclaimer']}\n",
            "{'_id': ObjectId('645d60fd7efa6e38cc4fa530'), 'article_id': 5498, 'outbound_links': ['https://en.wikinews.org/wiki/FBI_Investigates_250_thousand_poisoned_U.S._dollars', 'https://en.wikinews.org/w/index.php?title=Special:WhatLinksHere/FBI_Investigates_250_thousand_poisoned_U.S._dollars&limit=20', 'https://en.wikinews.org/w/index.php?title=Special:WhatLinksHere/FBI_Investigates_250_thousand_poisoned_U.S._dollars&limit=100', 'https://en.wikinews.org/w/index.php?title=Special:WhatLinksHere/FBI_Investigates_250_thousand_poisoned_U.S._dollars&limit=250', 'https://en.wikinews.org/w/index.php?title=Special:WhatLinksHere/FBI_Investigates_250_thousand_poisoned_U.S._dollars&limit=500', 'https://en.wikinews.org/w/index.php?title=FBI_Investigates_1/4_Million_Poisoned_Dollars&redirect=no', 'https://en.wikinews.org/w/index.php?title=Special:WhatLinksHere&target=FBI+Investigates+1%2F4+Million+Poisoned+Dollars', 'https://en.wikinews.org/w/index.php?title=FBI_Investigates_1/4_Million_Poisoned_Dollars&action=edit', 'https://en.wikinews.org/wiki/Wikinews:2005/February', 'https://en.wikinews.org/w/index.php?title=Special:WhatLinksHere&target=Wikinews%3A2005%2FFebruary', 'https://en.wikinews.org/w/index.php?title=Wikinews:2005/February&action=edit', 'https://en.wikinews.org/wiki/Wikinews:2005/February/9', 'https://en.wikinews.org/w/index.php?title=Special:WhatLinksHere&target=Wikinews%3A2005%2FFebruary%2F9', 'https://en.wikinews.org/w/index.php?title=Wikinews:2005/February/9&action=edit', 'https://en.wikinews.org/wiki/User:Harej/pagelinks', 'https://en.wikinews.org/w/index.php?title=Special:WhatLinksHere&target=User%3AHarej%2Fpagelinks', 'https://en.wikinews.org/w/index.php?title=User:Harej/pagelinks&action=edit', 'https://en.wikinews.org/wiki/Comments:FBI_Investigates_250_thousand_poisoned_U.S._dollars', 'https://en.wikinews.org/w/index.php?title=Special:WhatLinksHere&target=Comments%3AFBI+Investigates+250+thousand+poisoned+U.S.+dollars', 'https://en.wikinews.org/w/index.php?title=Comments:FBI_Investigates_250_thousand_poisoned_U.S._dollars&action=edit', 'https://en.wikinews.org/wiki/Special:MyTalk', 'https://en.wikinews.org/wiki/Special:MyContributions', 'https://en.wikinews.org/w/index.php?title=Special:CreateAccount&returnto=Special%3AWhatLinksHere%2FFBI+Investigates+250+thousand+poisoned+U.S.+dollars&returntoquery=target%3DFBI%2BInvestigates%2B250%2Bthousand%2Bpoisoned%2BU.S.%2Bdollars', 'https://en.wikinews.org/w/index.php?title=Special:UserLogin&returnto=Special%3AWhatLinksHere%2FFBI+Investigates+250+thousand+poisoned+U.S.+dollars&returntoquery=target%3DFBI%2BInvestigates%2B250%2Bthousand%2Bpoisoned%2BU.S.%2Bdollars', 'https://en.wikinews.org/wiki/Talk:FBI_Investigates_250_thousand_poisoned_U.S._dollars', 'https://en.wikinews.org/w/index.php?title=FBI_Investigates_250_thousand_poisoned_U.S._dollars&action=edit', 'https://en.wikinews.org/w/index.php?title=FBI_Investigates_250_thousand_poisoned_U.S._dollars&action=history', 'https://en.wikinews.org/wiki/Main_Page', 'https://en.wikinews.org/wiki/Wikinews:Newsroom', 'https://en.wikinews.org/wiki/Special:RecentChanges', 'https://en.wikinews.org/wiki/Special:Random', 'https://en.wikinews.org/wiki/Wikinews:Archives', 'https://en.wikinews.org/wiki/Wikinews:Introduction', 'https://en.wikinews.org/wiki/Wikinews:Pillars_of_writing', 'https://en.wikinews.org/wiki/Wikinews:Writing_an_article', 'https://en.wikinews.org/wiki/Wikinews:Water_cooler', 'https://en.wikinews.org/wiki/Wikinews:Style_guide', 'https://en.wikinews.org/wiki/Wikinews:IRC', 'https://en.wikinews.org/wiki/Wikinews:Contact_us', 'https://en.wikinews.org/wiki/Category:Africa', 'https://en.wikinews.org/wiki/Category:Antarctica', 'https://en.wikinews.org/wiki/Category:Asia', 'https://en.wikinews.org/wiki/Category:Central_America', 'https://en.wikinews.org/wiki/Category:Europe', 'https://en.wikinews.org/wiki/Category:Middle_East', 'https://en.wikinews.org/wiki/Category:North_America', 'https://en.wikinews.org/wiki/Category:Oceania', 'https://en.wikinews.org/wiki/Category:South_America', 'https://en.wikinews.org/wiki/Special:SpecialPages', 'https://en.wikinews.org/wiki/Wikinews:About', 'https://en.wikinews.org/wiki/Wikinews:General_disclaimer']}\n"
          ]
        }
      ],
      "source": [
        "results = db.article.aggregate([{\"$match\" : {\"title\": {\"$regex\": search ,\"$options\":\"i\"}}},\n",
        "                                {\"$lookup\": {\"from\": \"content\",\"localField\": \"article_id\", \"foreignField\": \"article_id\", \"as\": \"content\"}},\n",
        "                                {\"$match\" : {\"content.keywords_dict\":{\"$regex\": search,\"$options\":\"i\"}}},\n",
        "                                {\"$project\": {\"article_id\":1, \"outbound_links\":1}}])\n",
        "\n",
        "# Process the results\n",
        "for doc in results:\n",
        "    print(doc)"
      ]
    },
    {
      "cell_type": "markdown",
      "metadata": {
        "id": "5DybCZaUNCfD"
      },
      "source": [
        "## PageRank"
      ]
    },
    {
      "cell_type": "markdown",
      "metadata": {
        "id": "OiYaDtJrKTmA"
      },
      "source": [
        "To calculate the rank of a page, a **directed graph** must be created to identify the inbound links of all pages.\n",
        "- The rank is dependent on the ranks of the pages that link to it and the number of outbound links of those pages.\n",
        "- Rank is recursively calculated as and when new nodes are added."
      ]
    },
    {
      "cell_type": "code",
      "execution_count": null,
      "metadata": {
        "id": "FFWRCcNJCwjC"
      },
      "outputs": [],
      "source": [
        "graph = nx.DiGraph()\n",
        "graph.add_nodes_from(df['url'])\n",
        "\n",
        "# checking for edges (URL -> URL)\n",
        "for _, row in df.iterrows():\n",
        "    url = row['url']\n",
        "    outbound_links = row['outbound_links']\n",
        "    \n",
        "    # Add edges from the current URL to its outbound links\n",
        "    for link in outbound_links:\n",
        "        graph.add_edge(url, link)"
      ]
    },
    {
      "cell_type": "markdown",
      "metadata": {
        "id": "hOTht3EiLJC5"
      },
      "source": [
        "Calculating the page rank:"
      ]
    },
    {
      "cell_type": "code",
      "execution_count": null,
      "metadata": {
        "id": "HfV2BTZhC--A"
      },
      "outputs": [],
      "source": [
        "pagerank = nx.pagerank(graph)"
      ]
    },
    {
      "cell_type": "markdown",
      "metadata": {
        "id": "GKdI50xrLRKl"
      },
      "source": [
        "Following are the Top 5 ranked pages in the given dataset:"
      ]
    },
    {
      "cell_type": "code",
      "execution_count": null,
      "metadata": {
        "colab": {
          "base_uri": "https://localhost:8080/",
          "height": 206
        },
        "id": "k2Rby_OjDEjX",
        "outputId": "70e260f5-45ee-479c-f8cd-4fb4312c4fe4"
      },
      "outputs": [
        {
          "data": {
            "text/html": [
              "\n",
              "  <div id=\"df-726a7bb3-e188-4a92-bf8c-9ac99630ef8d\">\n",
              "    <div class=\"colab-df-container\">\n",
              "      <div>\n",
              "<style scoped>\n",
              "    .dataframe tbody tr th:only-of-type {\n",
              "        vertical-align: middle;\n",
              "    }\n",
              "\n",
              "    .dataframe tbody tr th {\n",
              "        vertical-align: top;\n",
              "    }\n",
              "\n",
              "    .dataframe thead th {\n",
              "        text-align: right;\n",
              "    }\n",
              "</style>\n",
              "<table border=\"1\" class=\"dataframe\">\n",
              "  <thead>\n",
              "    <tr style=\"text-align: right;\">\n",
              "      <th></th>\n",
              "      <th>url</th>\n",
              "      <th>pagerank</th>\n",
              "    </tr>\n",
              "  </thead>\n",
              "  <tbody>\n",
              "    <tr>\n",
              "      <th>278</th>\n",
              "      <td>https://en.wikinews.org/wiki/Category:Oceania</td>\n",
              "      <td>0.000463</td>\n",
              "    </tr>\n",
              "    <tr>\n",
              "      <th>272</th>\n",
              "      <td>https://en.wikinews.org/wiki/Category:Antarctica</td>\n",
              "      <td>0.000463</td>\n",
              "    </tr>\n",
              "    <tr>\n",
              "      <th>270</th>\n",
              "      <td>https://en.wikinews.org/wiki/Wikinews:Contact_us</td>\n",
              "      <td>0.000463</td>\n",
              "    </tr>\n",
              "    <tr>\n",
              "      <th>279</th>\n",
              "      <td>https://en.wikinews.org/wiki/Category:South_Am...</td>\n",
              "      <td>0.000463</td>\n",
              "    </tr>\n",
              "    <tr>\n",
              "      <th>289</th>\n",
              "      <td>https://en.wikinews.org/wiki/Wikinews:General_...</td>\n",
              "      <td>0.000463</td>\n",
              "    </tr>\n",
              "  </tbody>\n",
              "</table>\n",
              "</div>\n",
              "      <button class=\"colab-df-convert\" onclick=\"convertToInteractive('df-726a7bb3-e188-4a92-bf8c-9ac99630ef8d')\"\n",
              "              title=\"Convert this dataframe to an interactive table.\"\n",
              "              style=\"display:none;\">\n",
              "        \n",
              "  <svg xmlns=\"http://www.w3.org/2000/svg\" height=\"24px\"viewBox=\"0 0 24 24\"\n",
              "       width=\"24px\">\n",
              "    <path d=\"M0 0h24v24H0V0z\" fill=\"none\"/>\n",
              "    <path d=\"M18.56 5.44l.94 2.06.94-2.06 2.06-.94-2.06-.94-.94-2.06-.94 2.06-2.06.94zm-11 1L8.5 8.5l.94-2.06 2.06-.94-2.06-.94L8.5 2.5l-.94 2.06-2.06.94zm10 10l.94 2.06.94-2.06 2.06-.94-2.06-.94-.94-2.06-.94 2.06-2.06.94z\"/><path d=\"M17.41 7.96l-1.37-1.37c-.4-.4-.92-.59-1.43-.59-.52 0-1.04.2-1.43.59L10.3 9.45l-7.72 7.72c-.78.78-.78 2.05 0 2.83L4 21.41c.39.39.9.59 1.41.59.51 0 1.02-.2 1.41-.59l7.78-7.78 2.81-2.81c.8-.78.8-2.07 0-2.86zM5.41 20L4 18.59l7.72-7.72 1.47 1.35L5.41 20z\"/>\n",
              "  </svg>\n",
              "      </button>\n",
              "      \n",
              "  <style>\n",
              "    .colab-df-container {\n",
              "      display:flex;\n",
              "      flex-wrap:wrap;\n",
              "      gap: 12px;\n",
              "    }\n",
              "\n",
              "    .colab-df-convert {\n",
              "      background-color: #E8F0FE;\n",
              "      border: none;\n",
              "      border-radius: 50%;\n",
              "      cursor: pointer;\n",
              "      display: none;\n",
              "      fill: #1967D2;\n",
              "      height: 32px;\n",
              "      padding: 0 0 0 0;\n",
              "      width: 32px;\n",
              "    }\n",
              "\n",
              "    .colab-df-convert:hover {\n",
              "      background-color: #E2EBFA;\n",
              "      box-shadow: 0px 1px 2px rgba(60, 64, 67, 0.3), 0px 1px 3px 1px rgba(60, 64, 67, 0.15);\n",
              "      fill: #174EA6;\n",
              "    }\n",
              "\n",
              "    [theme=dark] .colab-df-convert {\n",
              "      background-color: #3B4455;\n",
              "      fill: #D2E3FC;\n",
              "    }\n",
              "\n",
              "    [theme=dark] .colab-df-convert:hover {\n",
              "      background-color: #434B5C;\n",
              "      box-shadow: 0px 1px 3px 1px rgba(0, 0, 0, 0.15);\n",
              "      filter: drop-shadow(0px 1px 2px rgba(0, 0, 0, 0.3));\n",
              "      fill: #FFFFFF;\n",
              "    }\n",
              "  </style>\n",
              "\n",
              "      <script>\n",
              "        const buttonEl =\n",
              "          document.querySelector('#df-726a7bb3-e188-4a92-bf8c-9ac99630ef8d button.colab-df-convert');\n",
              "        buttonEl.style.display =\n",
              "          google.colab.kernel.accessAllowed ? 'block' : 'none';\n",
              "\n",
              "        async function convertToInteractive(key) {\n",
              "          const element = document.querySelector('#df-726a7bb3-e188-4a92-bf8c-9ac99630ef8d');\n",
              "          const dataTable =\n",
              "            await google.colab.kernel.invokeFunction('convertToInteractive',\n",
              "                                                     [key], {});\n",
              "          if (!dataTable) return;\n",
              "\n",
              "          const docLinkHtml = 'Like what you see? Visit the ' +\n",
              "            '<a target=\"_blank\" href=https://colab.research.google.com/notebooks/data_table.ipynb>data table notebook</a>'\n",
              "            + ' to learn more about interactive tables.';\n",
              "          element.innerHTML = '';\n",
              "          dataTable['output_type'] = 'display_data';\n",
              "          await google.colab.output.renderOutput(dataTable, element);\n",
              "          const docLink = document.createElement('div');\n",
              "          docLink.innerHTML = docLinkHtml;\n",
              "          element.appendChild(docLink);\n",
              "        }\n",
              "      </script>\n",
              "    </div>\n",
              "  </div>\n",
              "  "
            ],
            "text/plain": [
              "                                                   url  pagerank\n",
              "278      https://en.wikinews.org/wiki/Category:Oceania  0.000463\n",
              "272   https://en.wikinews.org/wiki/Category:Antarctica  0.000463\n",
              "270   https://en.wikinews.org/wiki/Wikinews:Contact_us  0.000463\n",
              "279  https://en.wikinews.org/wiki/Category:South_Am...  0.000463\n",
              "289  https://en.wikinews.org/wiki/Wikinews:General_...  0.000463"
            ]
          },
          "execution_count": 21,
          "metadata": {},
          "output_type": "execute_result"
        }
      ],
      "source": [
        "df_pagerank = pd.DataFrame({'url': list(pagerank.keys()), 'pagerank': list(pagerank.values())})\n",
        "df_pagerank = df_pagerank.sort_values(by='pagerank', ascending=False)\n",
        "\n",
        "df_pagerank.head()"
      ]
    },
    {
      "cell_type": "markdown",
      "metadata": {
        "id": "Zk9ba8-qNHQ1"
      },
      "source": [
        "### Visualization"
      ]
    },
    {
      "cell_type": "markdown",
      "metadata": {
        "id": "eltxQxzgLgtL"
      },
      "source": [
        "Visualizing a nodes and edges\n",
        "- The chosen depth to find outbound links was 2\n",
        "- Only top N (N=10) are visualized"
      ]
    },
    {
      "cell_type": "code",
      "execution_count": null,
      "metadata": {
        "colab": {
          "base_uri": "https://localhost:8080/",
          "height": 516
        },
        "id": "fDRasYLLDyPj",
        "outputId": "81bb5cba-5f72-400c-b306-36cc80dccf69"
      },
      "outputs": [
        {
          "data": {
            "image/png": "[encoded data removed]",
            "text/plain": [
              "<Figure size 640x480 with 1 Axes>"
            ]
          },
          "metadata": {},
          "output_type": "display_data"
        }
      ],
      "source": [
        "top_nodes = sorted(pagerank, key=pagerank.get, reverse=True)[:10]\n",
        "\n",
        "subgraph = graph.subgraph(top_nodes)\n",
        "\n",
        "pos = nx.spring_layout(subgraph)\n",
        "nx.draw(subgraph, pos, with_labels=True, node_size=200, font_size=8, node_color='lightblue', width=0.5)\n",
        "\n",
        "node_labels = {node: node for node in top_nodes}\n",
        "nx.draw_networkx_labels(subgraph, pos, labels=node_labels, font_size=8)\n",
        "\n",
        "plt.show()"
      ]
    },
    {
      "cell_type": "markdown",
      "metadata": {
        "id": "xRIAUqOtMA0s"
      },
      "source": [
        "- The chosen depth to find outbound links was 1\n",
        "- Nodes are not in any particular order. First N (N=20) nodes are visualized)"
      ]
    },
    {
      "cell_type": "code",
      "execution_count": null,
      "metadata": {
        "colab": {
          "base_uri": "https://localhost:8080/",
          "height": 516
        },
        "id": "vpK5DgAdesU1",
        "outputId": "aa96b0e6-cad9-4959-95fe-4ab38281a404"
      },
      "outputs": [
        {
          "data": {
            "image/png": "[encoded data removed]",
            "text/plain": [
              "<Figure size 640x480 with 1 Axes>"
            ]
          },
          "metadata": {},
          "output_type": "display_data"
        }
      ],
      "source": [
        "G = nx.DiGraph()  # Directed graph\n",
        "\n",
        "for index, row in df.iterrows():\n",
        "    # Add nodes (pages) to the graph\n",
        "    G.add_node(row['url'], title=row['title'], content=row['content'], date=row['date'])\n",
        "    \n",
        "    # Split the outbound links string and add edges (connections)\n",
        "    outbound_links = row['outbound_links']\n",
        "    for link in outbound_links:\n",
        "        G.add_edge(row['url'], link)\n",
        "\n",
        "# Subset of nodes to print (first three nodes)\n",
        "nodes_to_print = list(G.nodes())[:20]\n",
        "\n",
        "# Create a subgraph with the desired nodes\n",
        "subgraph = G.subgraph(nodes_to_print)\n",
        "\n",
        "# Visualize the subgraph\n",
        "nx.draw(subgraph, with_labels=True, node_size=200, node_color='lightblue', font_size=8)\n",
        "plt.show()"
      ]
    },
    {
      "cell_type": "code",
      "source": [
        "!pip freeze > requirements.txt"
      ],
      "metadata": {
        "id": "uZ7GOY3SPSEH"
      },
      "execution_count": null,
      "outputs": []
    }
  ],
  "metadata": {
    "colab": {
      "provenance": []
    },
    "kernelspec": {
      "display_name": "Python 3",
      "name": "python3"
    },
    "language_info": {
      "name": "python"
    }
  },
  "nbformat": 4,
  "nbformat_minor": 0
}